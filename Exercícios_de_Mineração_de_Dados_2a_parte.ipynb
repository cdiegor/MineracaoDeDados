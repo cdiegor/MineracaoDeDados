{
  "nbformat": 4,
  "nbformat_minor": 0,
  "metadata": {
    "colab": {
      "provenance": [],
      "toc_visible": true,
      "include_colab_link": true
    },
    "kernelspec": {
      "name": "python3",
      "display_name": "Python 3"
    },
    "language_info": {
      "name": "python"
    }
  },
  "cells": [
    {
      "cell_type": "markdown",
      "metadata": {
        "id": "view-in-github",
        "colab_type": "text"
      },
      "source": [
        "<a href=\"https://colab.research.google.com/github/cdiegor/MineracaoDeDados/blob/main/Exerc%C3%ADcios_de_Minera%C3%A7%C3%A3o_de_Dados_2a_parte.ipynb\" target=\"_parent\"><img src=\"https://colab.research.google.com/assets/colab-badge.svg\" alt=\"Open In Colab\"/></a>"
      ]
    },
    {
      "cell_type": "markdown",
      "source": [
        "# Exercícios em Mineração de Dados"
      ],
      "metadata": {
        "id": "qmiONQJKSFl6"
      }
    },
    {
      "cell_type": "markdown",
      "source": [
        "## Aplicando modelos avançados de aprendizado supervisionado.\n",
        "\n",
        "Desenvolva uma análise a partir de um modelo preditivo de classificação ou regressão para os casos abaixo."
      ],
      "metadata": {
        "id": "tHXEmZTAmg-4"
      }
    },
    {
      "cell_type": "markdown",
      "source": [
        "### MNIST - Reconhecimento de algarismos escritos a mão"
      ],
      "metadata": {
        "id": "0fb3ll8iSJO4"
      }
    },
    {
      "cell_type": "markdown",
      "source": [
        "#### Contexto"
      ],
      "metadata": {
        "id": "DDfJi0oASkDp"
      }
    },
    {
      "cell_type": "markdown",
      "source": [
        "O conjunto de dados MNIST traz uma coletânea de imagens de algarismos escritos à mão. Ele é considerado um conjunto de referência para métodos que se pretendem como reconhecedores de padrões em imagens."
      ],
      "metadata": {
        "id": "cZKC0-KcSlR4"
      }
    },
    {
      "cell_type": "markdown",
      "source": [
        "#### Conteúdo"
      ],
      "metadata": {
        "id": "lAtOBCy4Sm0x"
      }
    },
    {
      "cell_type": "markdown",
      "source": [
        "O banco de dados MNIST (Instituto Nacional de Padrões e Tecnologia Modificado) é um grande banco de dados de dígitos manuscritos, comumente usado para treinar vários sistemas de processamento de imagens. O banco de dados também é amplamente utilizado para treinamento e teste no campo do aprendizado de máquina. Ele foi criado por meio da \"remixagem\" das amostras dos conjuntos de dados originais do NIST. Os criadores acharam que, como o conjunto de dados de treinamento do NIST foi retirado de funcionários do Departamento Estadunidense de Senso, enquanto o conjunto de dados de teste foi retirado de estudantes estadunidenses do ensino médio, ele não era adequado para experimentos de aprendizado de máquina. Além disso, as imagens em preto e branco do NIST foram normalizadas para caber em uma caixa delimitadora de 28x28 píxeis e antisserrilhadas, o que introduziu níveis de escala de cinza.\n",
        "\n",
        "[Fonte](https://pt.wikipedia.org/wiki/Banco_de_dados_MNIST)\n"
      ],
      "metadata": {
        "id": "S-soxdnOShtR"
      }
    },
    {
      "cell_type": "markdown",
      "source": [
        "#### Link para acesso"
      ],
      "metadata": {
        "id": "-UfgXcgTS1kJ"
      }
    },
    {
      "cell_type": "markdown",
      "source": [
        "A leitura do conjunto com o scikit-learn pode ser feita facialmente utilizando o seguinte trecho de código:\n"
      ],
      "metadata": {
        "id": "edeAkSu4S3t5"
      }
    },
    {
      "cell_type": "code",
      "source": [
        "# Ler as imagens e transformá-las em um vetor\n",
        "n = len(digits.images)\n",
        "data = digits.images.reshape((n, -1))\n",
        "\n",
        "# Fazer a divisão entre treinamento e teste\n",
        "X_train, X_test, y_train, y_test = train_test_split(data, digits.target, test_size=0.2)"
      ],
      "metadata": {
        "id": "gak82ekQ5GMH"
      },
      "execution_count": null,
      "outputs": []
    },
    {
      "cell_type": "markdown",
      "source": [
        "### Comentários da Google Store Análise de Sentimentos em Português."
      ],
      "metadata": {
        "id": "--wiYxCPTCc7"
      }
    },
    {
      "cell_type": "markdown",
      "source": [
        "#### Contexto"
      ],
      "metadata": {
        "id": "ytuh__cuU1OP"
      }
    },
    {
      "cell_type": "markdown",
      "source": [
        "Uma importante aplicação que surgiu com a Mineração de Dados foi a Análise de Sentimentos, que em sua versão mais simplificada consiste em dizer se um comentário foi positivo ou negativo automaticamente.\n",
        "\n",
        "Esta é uma aplicação muito valiosa para análise de produtos em lojas virtuais. Nesta tarefa vamos utilizar um conjunto de dados que consistem em comentários de usuários sobre aplicativos na Google Store."
      ],
      "metadata": {
        "id": "He9yOxIxU5q_"
      }
    },
    {
      "cell_type": "markdown",
      "source": [
        "#### Conteúdo"
      ],
      "metadata": {
        "id": "B5CBxcMeU3je"
      }
    },
    {
      "cell_type": "markdown",
      "source": [
        "As avaliações de usuários desempenham um papel crucial na formação das percepções do consumidor e na orientação dos processos de tomada de decisão no mercado digital. Com o surgimento de aplicativos móveis, plataformas como a Google Play Store servem como centros para os usuários expressarem suas opiniões e experiências com vários aplicativos e serviços. Entender as polaridades e emoções transmitidas nessas avaliações fornece insights valiosos para desenvolvedores, profissionais de marketing e pesquisadores.\n",
        "\n",
        "O conjunto de dados consiste em avaliações de usuários coletadas da seção \"Tendências\" da Google Play Store em maio de 2023. Um total de 300 avaliações foram coletadas para cada um dos 10 aplicativos mais baixados durante esse período. Cada avaliação no conjunto de dados foi meticulosamente rotulada para polaridade, categorizando sentimentos como positivos, negativos ou neutros, e emoção, abrangendo uma gama de respostas emocionais, como felicidade, tristeza, surpresa, medo, nojo e raiva.\n",
        "\n",
        "Além disso, vale a pena notar que este conjunto de dados passou por um rigoroso processo de anotação. Três anotadores classificaram as avaliações de forma independente para polaridade e emoção. Depois, eles reconciliaram quaisquer discrepâncias por meio de discussão e chegaram a um consenso para as anotações finais. Isso garante um alto nível de precisão e confiabilidade no processo de rotulagem, fornecendo aos pesquisadores e profissionais dados confiáveis ​​para análise e tomada de decisão.\n",
        "\n",
        "É importante destacar que todas as avaliações neste conjunto de dados estão em português brasileiro, refletindo as nuances linguísticas e culturais específicas do mercado brasileiro. Ao alavancar este conjunto de dados, as partes interessadas ganham acesso a um recurso robusto para explorar o sentimento e a emoção do usuário dentro do contexto de aplicativos móveis populares no Brasil.\n",
        "\n",
        "Fonte: [A Dataset of Polarities and Emotions from Brazilian Portuguese Play Store Reviews](https://zenodo.org/records/10823148)"
      ],
      "metadata": {
        "id": "kPrOiHIMe_y5"
      }
    },
    {
      "cell_type": "markdown",
      "source": [],
      "metadata": {
        "id": "CZz9fzZuVRKZ"
      }
    },
    {
      "cell_type": "markdown",
      "source": [
        "#### Link para acesso"
      ],
      "metadata": {
        "id": "LSdXqiqaV33n"
      }
    },
    {
      "cell_type": "code",
      "source": [],
      "metadata": {
        "id": "8rCuZBGue_ic"
      },
      "execution_count": null,
      "outputs": []
    },
    {
      "cell_type": "markdown",
      "source": [
        "[Comentários na Google Store](https://github.com/cdiegor/MineracaoDeDados/blob/main/Exemplos/googlestore/googlestore.csv)"
      ],
      "metadata": {
        "id": "ELWV397-V59j"
      }
    }
  ]
}