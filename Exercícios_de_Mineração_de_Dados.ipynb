{
  "nbformat": 4,
  "nbformat_minor": 0,
  "metadata": {
    "colab": {
      "provenance": [],
      "toc_visible": true,
      "include_colab_link": true
    },
    "kernelspec": {
      "name": "python3",
      "display_name": "Python 3"
    },
    "language_info": {
      "name": "python"
    }
  },
  "cells": [
    {
      "cell_type": "markdown",
      "metadata": {
        "id": "view-in-github",
        "colab_type": "text"
      },
      "source": [
        "<a href=\"https://colab.research.google.com/github/cdiegor/MineracaoDeDados/blob/main/Exerc%C3%ADcios_de_Minera%C3%A7%C3%A3o_de_Dados.ipynb\" target=\"_parent\"><img src=\"https://colab.research.google.com/assets/colab-badge.svg\" alt=\"Open In Colab\"/></a>"
      ]
    },
    {
      "cell_type": "markdown",
      "source": [
        "# Exercícios em Mineração de Dados"
      ],
      "metadata": {
        "id": "qmiONQJKSFl6"
      }
    },
    {
      "cell_type": "markdown",
      "source": [
        "## 1a parte: Questões sobre os métodos vistos em sala"
      ],
      "metadata": {
        "id": "UxHLVVhxmWnd"
      }
    },
    {
      "cell_type": "markdown",
      "source": [
        "#### Escreva uma resposta curta de uma ou duas frases para cada uma das perguntas abaixo. Certifique-se de que sua resposta seja clara e concisa.\n",
        "\n",
        "1. O que é uma transformação de atributo? Cite um exemplo de como isto pode ajudar os métodos de aprendizado.\n",
        "2. Por que gráficos de dispersão dos dados são interessantes de serem observados antes de fazer o aprendizado supervisionado?\n",
        "3. Qual é o motivo pelo qual os dados podem não ser IID (independentes e identicamente distribuídos) no exemplo de filtragem de spam de e-mail da aula?\n",
        "4. Qual é a diferença entre um conjunto de validação e um conjunto de teste?\n",
        "5. Por que não podemos (normalmente) usar o erro de treinamento para selecionar um hiperparâmetro?\n",
        "6. Naïve Bayes faz a suposição de que todos os recursos são condicionalmente independentes, dado o rótulo da classe. Por que essa suposição é necessária e o que aconteceria sem ela?\n",
        "7. Por que o KNN é considerado um método não paramétrico e quais são as consequências indesejáveis ​​do design não paramétrico do KNN?\n",
        "8. Para qualquer modelo paramétrico, como o aumento do número de exemplos de treinamento afeta as duas partes do custo-benefício fundamental?\n",
        "9. Tanto o aprendizado supervisionado quanto os modelos de agrupamento recebem uma entrada x_i e produzem um rótulo y_i. Qual é a principal diferença?\n",
        "10. No agrupamento k-means, os clusters são garantidamente regiões convexas. As áreas que recebem o mesmo rótulo por KNN também são convexas?"
      ],
      "metadata": {
        "id": "riFDjosZmcCY"
      }
    },
    {
      "cell_type": "markdown",
      "source": [
        "## 2a parte: Aplicando modelos de aprendizado supervisionado."
      ],
      "metadata": {
        "id": "tHXEmZTAmg-4"
      }
    },
    {
      "cell_type": "markdown",
      "source": [
        "### Detecção de fraude em cartão de crédito"
      ],
      "metadata": {
        "id": "0fb3ll8iSJO4"
      }
    },
    {
      "cell_type": "markdown",
      "source": [
        "#### Contexto"
      ],
      "metadata": {
        "id": "DDfJi0oASkDp"
      }
    },
    {
      "cell_type": "markdown",
      "source": [
        "É importante que as empresas de cartão de crédito sejam capazes de reconhecer transações fraudulentas com cartão de crédito para que os clientes não sejam cobrados por itens que não compraram."
      ],
      "metadata": {
        "id": "cZKC0-KcSlR4"
      }
    },
    {
      "cell_type": "markdown",
      "source": [
        "#### Conteúdo"
      ],
      "metadata": {
        "id": "lAtOBCy4Sm0x"
      }
    },
    {
      "cell_type": "markdown",
      "source": [
        "\n",
        "O conjunto de dados contém transações feitas por cartões de crédito em setembro de 2013 por titulares de cartões europeus.\n",
        "\n",
        "Este conjunto de dados apresenta transações ocorridas em dois dias, onde temos 492 fraudes em 284.807 transações. O conjunto de dados é altamente desbalanceado, a classe positiva (fraudes) responde por 0,172% de todas as transações.\n",
        "\n",
        "Ele contém apenas variáveis de entrada numéricas que são o resultado de uma transformação PCA. Infelizmente, devido a questões de confidencialidade, não podemos fornecer os recursos originais e mais informações básicas sobre os dados. As características V1, V2, … V28 são os principais componentes obtidos com PCA, as únicas características que não foram transformadas com PCA são 'Time' e 'Amount'. O recurso 'Tempo' contém os segundos decorridos entre cada transação e a primeira transação no conjunto de dados. O recurso 'Valor' é o valor da transação, esse recurso pode ser usado para aprendizado sensível ao custo dependente de exemplo. A característica 'Classe' é a variável de resposta e assume valor 1 em caso de fraude e 0 caso contrário.\n",
        "\n",
        "Dada a taxa de desequilíbrio de classe, recomendamos medir a precisão usando a Área sob a Curva de Rechamada de Precisão (AUPRC). A precisão da matriz de confusão não é significativa para a classificação desbalanceada."
      ],
      "metadata": {
        "id": "S-soxdnOShtR"
      }
    },
    {
      "cell_type": "markdown",
      "source": [
        "#### Link para acesso"
      ],
      "metadata": {
        "id": "-UfgXcgTS1kJ"
      }
    },
    {
      "cell_type": "markdown",
      "source": [
        "[Fraude em cartão de crédito na Kaggle](https://www.kaggle.com/datasets/mlg-ulb/creditcardfraud)"
      ],
      "metadata": {
        "id": "edeAkSu4S3t5"
      }
    },
    {
      "cell_type": "markdown",
      "source": [
        "### Titanic - Aprendizado com o desastre"
      ],
      "metadata": {
        "id": "--wiYxCPTCc7"
      }
    },
    {
      "cell_type": "markdown",
      "source": [
        "#### Contexto"
      ],
      "metadata": {
        "id": "ytuh__cuU1OP"
      }
    },
    {
      "cell_type": "markdown",
      "source": [
        "O mais famoso desastre marítimo da história está relatado em tabelas de dados contendo diversas informações sobre os passageiros, inclusive quem sobreviveu ou não ao desastre."
      ],
      "metadata": {
        "id": "He9yOxIxU5q_"
      }
    },
    {
      "cell_type": "markdown",
      "source": [
        "#### Conteúdo"
      ],
      "metadata": {
        "id": "B5CBxcMeU3je"
      }
    },
    {
      "cell_type": "markdown",
      "source": [
        "O seguinte dicionário de dados pode ser usado para melhor entendimento dos atributos.\n",
        "\n",
        "\n",
        "|Variável\t|Definição\t|Chave|\n",
        "|---|---|---|\n",
        "|survival\t| Sobrevivente (classe)\t|0 = Não, 1 = Sim|\n",
        "|pclass|\tClasse do bilhete|\t1 = 1a, 2 = 2a, 3 = 3a|\n",
        "|sex|\tSexo| |\n",
        "|Age|\tIdade em anos\n",
        "|sibsp| # irmãos ou companheiros no Titanic\t|\n",
        "|parch| # pais ou filhos no Titanic\t|\n",
        "|ticket|\tNúmero do bilhete\n",
        "|fare|\tTarifa cobrada | |\n",
        "|cabin| Número da cabine | |\n",
        "|embarked| Porto de embarque|\tC = Cherbourg, Q = Queenstown, S = Southampton|"
      ],
      "metadata": {
        "id": "CZz9fzZuVRKZ"
      }
    },
    {
      "cell_type": "markdown",
      "source": [
        "#### Link para acesso"
      ],
      "metadata": {
        "id": "LSdXqiqaV33n"
      }
    },
    {
      "cell_type": "markdown",
      "source": [
        "[Passageiros do Titanic](https://github.com/cdiegor/MineracaoDeDados/blob/main/Exemplos/titanic/titanic.csv)"
      ],
      "metadata": {
        "id": "ELWV397-V59j"
      }
    },
    {
      "cell_type": "markdown",
      "source": [
        "### Custo de seguro saúde"
      ],
      "metadata": {
        "id": "PkExg-4SX0_O"
      }
    },
    {
      "cell_type": "markdown",
      "source": [
        "#### Contexto"
      ],
      "metadata": {
        "id": "pFKcmEz6YXmv"
      }
    },
    {
      "cell_type": "markdown",
      "source": [
        "Prever corretamente os custos para um paciente em um seguro de saúde é uma forma de realizar cobranças mais justas e mesmo de prever os futuros negócios da empresa."
      ],
      "metadata": {
        "id": "wXdRuimLZlTC"
      }
    },
    {
      "cell_type": "markdown",
      "source": [
        "#### Conteúdo\n",
        "\n"
      ],
      "metadata": {
        "id": "GMDZw229YZFu"
      }
    },
    {
      "cell_type": "markdown",
      "source": [
        "O seguinte dicionário de dados pode ser usado para melhor entendimento dos atributos.\n",
        "\n",
        "|Variável |Definição|\n",
        "|--- |---|\n",
        "|age| Idade do beneficiário principal|\n",
        "|sex| Sexo do contratante de seguro feminino, masculino|\n",
        "|bmi| Índice de massa corporal|\n",
        "|children| Número de filhos cobertos pelo seguro de saúde / Número de dependentes|\n",
        "|smoker| Se o contratante é fumante|\n",
        "|region| A área residencial do beneficiário nos EUA, nordeste, sudeste, sudoeste, noroeste|\n",
        "|charges| Custos médicos individuais cobrados pelo seguro de saúde|"
      ],
      "metadata": {
        "id": "_-JBqa8mZh-R"
      }
    },
    {
      "cell_type": "markdown",
      "source": [
        "#### Link para acesso"
      ],
      "metadata": {
        "id": "QaDsGJ_aYbJw"
      }
    },
    {
      "cell_type": "markdown",
      "source": [
        "[Seguro saúde](https://github.com/cdiegor/MineracaoDeDados/blob/main/Exemplos/insurance/insurance.csv)"
      ],
      "metadata": {
        "id": "A2KasjplZ6NE"
      }
    },
    {
      "cell_type": "markdown",
      "source": [
        "## 3a parte: agrupamento de países por dados sócio-econômicos"
      ],
      "metadata": {
        "id": "0kSYENQ0nuhk"
      }
    },
    {
      "cell_type": "markdown",
      "source": [
        "### Contexto"
      ],
      "metadata": {
        "id": "jgFlIGOnnuhn"
      }
    },
    {
      "cell_type": "markdown",
      "source": [
        "Muitos organismos internacionais precisam categorizar os países para orientar suas políticas de ajuda e captação de recursos. Uma possível forma é utilizar dados públicos sócio-econômicos para encontrar um agrupamento condizente com esta necessidade."
      ],
      "metadata": {
        "id": "HW3OPSSRnuhp"
      }
    },
    {
      "cell_type": "markdown",
      "source": [
        "### Conteúdo\n",
        "\n"
      ],
      "metadata": {
        "id": "HGMKyzxenuhr"
      }
    },
    {
      "cell_type": "markdown",
      "source": [
        "### Objetivo:\n",
        "\n",
        "Categorizar os países usando fatores socioeconômicos e de saúde que determinam o desenvolvimento geral do país.\n",
        "\n",
        "### Sobre a organização:\n",
        "\n",
        "A HELP International é uma ONG humanitária internacional que está comprometida em combater a pobreza e fornecer às pessoas de países subdesenvolvidos ​​comodidades básicas e alívio durante desastres e calamidades naturais.\n",
        "\n",
        "### Descrição do problema:\n",
        "\n",
        "A HELP International conseguiu arrecadar cerca de US$ 10 milhões. Agora, o CEO da ONG precisa decidir como usar esse dinheiro de forma estratégica e eficaz. Então, o CEO precisa tomar a decisão de escolher os países que mais precisam de ajuda. Portanto, seu trabalho como cientista de dados é categorizar os países usando alguns fatores socioeconômicos e de saúde que determinam o desenvolvimento geral do país. Então, você precisa sugerir os países nos quais o CEO precisa se concentrar mais."
      ],
      "metadata": {
        "id": "h898ZC2RdT18"
      }
    },
    {
      "cell_type": "markdown",
      "source": [
        "### Link para acesso"
      ],
      "metadata": {
        "id": "ocimmWVEnuht"
      }
    },
    {
      "cell_type": "markdown",
      "source": [
        "\n",
        "\n",
        "[Aprendizado não supervisionado em dados de países na Kaggle](https://www.kaggle.com/datasets/rohan0301/unsupervised-learning-on-country-data)\n",
        "\n",
        "[Link direto para os dados](https://github.com/cdiegor/MineracaoDeDados/raw/main/agrupamentodepaises.zip)"
      ],
      "metadata": {
        "id": "skHe8dh5nuhu"
      }
    }
  ]
}