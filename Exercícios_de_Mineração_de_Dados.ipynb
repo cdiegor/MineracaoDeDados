{
  "nbformat": 4,
  "nbformat_minor": 0,
  "metadata": {
    "colab": {
      "provenance": [],
      "toc_visible": true,
      "authorship_tag": "ABX9TyM6j8UredFqiSXWKD7m8buo",
      "include_colab_link": true
    },
    "kernelspec": {
      "name": "python3",
      "display_name": "Python 3"
    },
    "language_info": {
      "name": "python"
    }
  },
  "cells": [
    {
      "cell_type": "markdown",
      "metadata": {
        "id": "view-in-github",
        "colab_type": "text"
      },
      "source": [
        "<a href=\"https://colab.research.google.com/github/cdiegor/MineracaoDeDados/blob/main/Exerc%C3%ADcios_de_Minera%C3%A7%C3%A3o_de_Dados.ipynb\" target=\"_parent\"><img src=\"https://colab.research.google.com/assets/colab-badge.svg\" alt=\"Open In Colab\"/></a>"
      ]
    },
    {
      "cell_type": "markdown",
      "source": [
        "# Dados para exercícios"
      ],
      "metadata": {
        "id": "qmiONQJKSFl6"
      }
    },
    {
      "cell_type": "markdown",
      "source": [
        "## Detecção de fraude em cartão de crédito"
      ],
      "metadata": {
        "id": "0fb3ll8iSJO4"
      }
    },
    {
      "cell_type": "markdown",
      "source": [
        "### Contexto"
      ],
      "metadata": {
        "id": "DDfJi0oASkDp"
      }
    },
    {
      "cell_type": "markdown",
      "source": [
        "É importante que as empresas de cartão de crédito sejam capazes de reconhecer transações fraudulentas com cartão de crédito para que os clientes não sejam cobrados por itens que não compraram."
      ],
      "metadata": {
        "id": "cZKC0-KcSlR4"
      }
    },
    {
      "cell_type": "markdown",
      "source": [
        "### Conteúdo"
      ],
      "metadata": {
        "id": "lAtOBCy4Sm0x"
      }
    },
    {
      "cell_type": "markdown",
      "source": [
        "\n",
        "O conjunto de dados contém transações feitas por cartões de crédito em setembro de 2013 por titulares de cartões europeus.\n",
        "\n",
        "Este conjunto de dados apresenta transações ocorridas em dois dias, onde temos 492 fraudes em 284.807 transações. O conjunto de dados é altamente desbalanceado, a classe positiva (fraudes) responde por 0,172% de todas as transações.\n",
        "\n",
        "Ele contém apenas variáveis de entrada numéricas que são o resultado de uma transformação PCA. Infelizmente, devido a questões de confidencialidade, não podemos fornecer os recursos originais e mais informações básicas sobre os dados. As características V1, V2, … V28 são os principais componentes obtidos com PCA, as únicas características que não foram transformadas com PCA são 'Time' e 'Amount'. O recurso 'Tempo' contém os segundos decorridos entre cada transação e a primeira transação no conjunto de dados. O recurso 'Valor' é o valor da transação, esse recurso pode ser usado para aprendizado sensível ao custo dependente de exemplo. A característica 'Classe' é a variável de resposta e assume valor 1 em caso de fraude e 0 caso contrário.\n",
        "\n",
        "Dada a taxa de desequilíbrio de classe, recomendamos medir a precisão usando a Área sob a Curva de Rechamada de Precisão (AUPRC). A precisão da matriz de confusão não é significativa para a classificação desbalanceada."
      ],
      "metadata": {
        "id": "S-soxdnOShtR"
      }
    },
    {
      "cell_type": "markdown",
      "source": [
        "### Link para acesso"
      ],
      "metadata": {
        "id": "-UfgXcgTS1kJ"
      }
    },
    {
      "cell_type": "markdown",
      "source": [
        "[Fraude em cartão de crédito na Kaggle](https://www.kaggle.com/datasets/mlg-ulb/creditcardfraud)"
      ],
      "metadata": {
        "id": "edeAkSu4S3t5"
      }
    },
    {
      "cell_type": "markdown",
      "source": [
        "## Titanic - Aprendizado com o desastre"
      ],
      "metadata": {
        "id": "--wiYxCPTCc7"
      }
    },
    {
      "cell_type": "markdown",
      "source": [
        "## Contexto"
      ],
      "metadata": {
        "id": "ytuh__cuU1OP"
      }
    },
    {
      "cell_type": "markdown",
      "source": [
        "O mais famoso desastre marítimo da história está relatado em tabelas de dados contendo diversas informações sobre os passageiros, inclusive quem sobreviveu ou não ao desastre."
      ],
      "metadata": {
        "id": "He9yOxIxU5q_"
      }
    },
    {
      "cell_type": "markdown",
      "source": [
        "## Conteúdo"
      ],
      "metadata": {
        "id": "B5CBxcMeU3je"
      }
    },
    {
      "cell_type": "markdown",
      "source": [
        "O seguinte dicionário de dados pode ser usado para melhor entendimento dos atributos.\n",
        "\n",
        "\n",
        "|Variável\t|Definição\t|Chave|\n",
        "|---|---|---|\n",
        "|survival\t| Sobrevivente (classe)\t|0 = Não, 1 = Sim|\n",
        "|pclass|\tClasse do bilhete|\t1 = 1a, 2 = 2a, 3 = 3a|\n",
        "|sex|\tSexo| |\n",
        "|Age|\tIdade em anos\n",
        "|sibsp| # irmãos ou companheiros no Titanic\t|\n",
        "|parch| # pais ou filhos no Titanic\t|\n",
        "|ticket|\tNúmero do bilhete\n",
        "|fare|\tTarifa cobrada | |\n",
        "|cabin| Número da cabine | |\n",
        "|embarked| Porto de embarque|\tC = Cherbourg, Q = Queenstown, S = Southampton|"
      ],
      "metadata": {
        "id": "CZz9fzZuVRKZ"
      }
    },
    {
      "cell_type": "markdown",
      "source": [
        "### Link para acesso"
      ],
      "metadata": {
        "id": "LSdXqiqaV33n"
      }
    },
    {
      "cell_type": "markdown",
      "source": [
        "[Passageiros do Titanic](https://github.com/cdiegor/MineracaoDeDados/blob/main/Exemplos/titanic/titanic.csv)"
      ],
      "metadata": {
        "id": "ELWV397-V59j"
      }
    },
    {
      "cell_type": "markdown",
      "source": [
        "## Custo de seguro saúde"
      ],
      "metadata": {
        "id": "PkExg-4SX0_O"
      }
    },
    {
      "cell_type": "markdown",
      "source": [
        "### Contexto"
      ],
      "metadata": {
        "id": "pFKcmEz6YXmv"
      }
    },
    {
      "cell_type": "markdown",
      "source": [
        "Prever corretamente os custos para um paciente em um seguro de saúde é uma forma de realizar cobranças mais justas e mesmo de prever os futuros negócios da empresa."
      ],
      "metadata": {
        "id": "wXdRuimLZlTC"
      }
    },
    {
      "cell_type": "markdown",
      "source": [
        "### Conteúdo\n",
        "\n"
      ],
      "metadata": {
        "id": "GMDZw229YZFu"
      }
    },
    {
      "cell_type": "markdown",
      "source": [
        "O seguinte dicionário de dados pode ser usado para melhor entendimento dos atributos.\n",
        "\n",
        "|Variável |Definição|\n",
        "|--- |---|\n",
        "|age| Idade do beneficiário principal|\n",
        "|sex| Sexo do contratante de seguro feminino, masculino|\n",
        "|bmi| Índice de massa corporal|\n",
        "|children| Número de filhos cobertos pelo seguro de saúde / Número de dependentes|\n",
        "|smoker| Se o contratante é fumante|\n",
        "|region| A área residencial do beneficiário nos EUA, nordeste, sudeste, sudoeste, noroeste|\n",
        "|charges| Custos médicos individuais cobrados pelo seguro de saúde|"
      ],
      "metadata": {
        "id": "_-JBqa8mZh-R"
      }
    },
    {
      "cell_type": "markdown",
      "source": [
        "### Link para acesso"
      ],
      "metadata": {
        "id": "QaDsGJ_aYbJw"
      }
    },
    {
      "cell_type": "markdown",
      "source": [
        "[Seguro saúde](https://github.com/cdiegor/MineracaoDeDados/blob/main/Exemplos/insurance/insurance.csv)"
      ],
      "metadata": {
        "id": "A2KasjplZ6NE"
      }
    }
  ]
}