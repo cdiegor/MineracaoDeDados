{
  "cells": [
    {
      "cell_type": "markdown",
      "metadata": {
        "id": "view-in-github",
        "colab_type": "text"
      },
      "source": [
        "<a href=\"https://colab.research.google.com/github/cdiegor/MineracaoDeDados/blob/main/Filtro_de_spam_usando_um_classificador_Naive_Bayes.ipynb\" target=\"_parent\"><img src=\"https://colab.research.google.com/assets/colab-badge.svg\" alt=\"Open In Colab\"/></a>"
      ]
    },
    {
      "metadata": {
        "_uuid": "38fc7b0f579e283e26411cd01392d2015f5d59d3",
        "id": "lrcOdTEhYPk1"
      },
      "cell_type": "markdown",
      "source": [
        "# Filtro de spam usando um classificador Naive Bayes\n",
        "\n",
        "[original](https://www.kaggle.com/code/jeffysonar/spam-filter-using-naive-bayes-classifier)"
      ]
    },
    {
      "metadata": {
        "_uuid": "52bd1fe4c789af10c8f6bcebe9e3c8fd3c101781",
        "id": "iNHugCHlYPk3"
      },
      "cell_type": "markdown",
      "source": [
        "**Importar bibliotecas**"
      ]
    },
    {
      "metadata": {
        "trusted": true,
        "_uuid": "11ce4eaf13356cd47e341aea85670f36a13164d8",
        "id": "DStp8ihlYPk4"
      },
      "cell_type": "code",
      "source": [
        "import numpy as np\n",
        "import pandas as pd\n",
        "import matplotlib.pyplot as plt\n",
        "import seaborn as sns\n",
        "%matplotlib inline"
      ],
      "execution_count": null,
      "outputs": []
    },
    {
      "metadata": {
        "_uuid": "6213264582afb6541e4ae286710ac0051a859685",
        "id": "IZlIXiJIYPk5"
      },
      "cell_type": "markdown",
      "source": [
        "**Leitura do arquivo CSV**"
      ]
    },
    {
      "metadata": {
        "trusted": true,
        "_uuid": "8163f26bff8891be58ce9cbf544d8a67f71974ec",
        "id": "A6VxyDToYPk6"
      },
      "cell_type": "code",
      "source": [
        "df = pd.read_csv('spam.csv', encoding='latin-1')[['v1', 'v2']]\n",
        "df.columns = ['label', 'message']\n",
        "df.head()"
      ],
      "execution_count": null,
      "outputs": []
    },
    {
      "metadata": {
        "_uuid": "431a0a9e236da04a37713645f200e580124bdae4",
        "id": "8Qox4puNYPk6"
      },
      "cell_type": "markdown",
      "source": [
        "**Mostrar o conjunto de dados e contagem de ham/spam**"
      ]
    },
    {
      "metadata": {
        "trusted": true,
        "_uuid": "95fa040f71997610cba921618485ae2d465e1188",
        "id": "o6MrtUZ-YPk7"
      },
      "cell_type": "code",
      "source": [
        "df.groupby('label').describe()"
      ],
      "execution_count": null,
      "outputs": []
    },
    {
      "metadata": {
        "trusted": true,
        "_uuid": "79bbf66e99ac1a0c4c71dcdd7854060037682c06",
        "id": "XX6BQfu_YPk8"
      },
      "cell_type": "code",
      "source": [
        "sns.countplot(data=df, x='label')"
      ],
      "execution_count": null,
      "outputs": []
    },
    {
      "metadata": {
        "_uuid": "60d48951ca5086115e08ede667a162ee9b92073a",
        "id": "IthHC6KsYPk8"
      },
      "cell_type": "markdown",
      "source": [
        "**Passos para realizar o nosso filtro de spam:**\n",
        "\n",
        "1. Limpar e normalizar o texto\n",
        "2. Converter o texto em vetores de palavras (utilizando o modelo *bag of words*) para que os modelos de aprendizado consigam entender.\n",
        "3. Treinar e testar o classificador."
      ]
    },
    {
      "metadata": {
        "_uuid": "519a4d4c06557a8623252baaff13054162cf7ab5",
        "id": "YwRlKkGNYPk9"
      },
      "cell_type": "markdown",
      "source": [
        "**Limpando e normalizando o texto**\n",
        "1. Remover pontuação\n",
        "2. Remover *stopwords*\n",
        "3. Aplicar [stemming](https://en.wikipedia.org/wiki/Stemming) (extrair a raiz das palavras)."
      ]
    },
    {
      "metadata": {
        "_uuid": "6969645b7c1eae007f7c533cb01f66e7524637bf",
        "id": "aOmIZdxyYPk9"
      },
      "cell_type": "markdown",
      "source": [
        "** Método process recebe um texto e aplica os passos 1, 2 e 3, retornando uma string que consiste na lista de palavras restantes.**"
      ]
    },
    {
      "cell_type": "code",
      "source": [
        "import nltk\n",
        "nltk.download('stopwords')"
      ],
      "metadata": {
        "id": "uHpJg5wmcY4J"
      },
      "execution_count": null,
      "outputs": []
    },
    {
      "metadata": {
        "trusted": true,
        "_uuid": "500971b5d102765bb5e6537943dd3e3d7ce9af02",
        "id": "lxWgHGvbYPk-"
      },
      "cell_type": "code",
      "source": [
        "import string\n",
        "from nltk.corpus import stopwords\n",
        "from nltk import PorterStemmer as Stemmer\n",
        "def process(text):\n",
        "    # Caixa baixa\n",
        "    text = text.lower()\n",
        "    # Remover a pontuação\n",
        "    text = ''.join([t for t in text if t not in string.punctuation])\n",
        "    # Remover as stopwords\n",
        "    text = [t for t in text.split() if t not in stopwords.words('english')]\n",
        "    # Raiz das palavras\n",
        "    st = Stemmer()\n",
        "    text = [st.stem(t) for t in text]\n",
        "    # Retornar o texto modificado\n",
        "    return text"
      ],
      "execution_count": null,
      "outputs": []
    },
    {
      "metadata": {
        "trusted": true,
        "_uuid": "21d1a8ec02208c20664d67770a94fc0261920f1a",
        "id": "ow2iaIodYPk-"
      },
      "cell_type": "code",
      "source": [
        "# Testando\n",
        "process('It\\'s holiday and we are playing cricket. Jeff is playing very well!!!')"
      ],
      "execution_count": null,
      "outputs": []
    },
    {
      "metadata": {
        "trusted": true,
        "_uuid": "659631e15f988f3f7282eaea14799243a7e25b5f",
        "id": "DRaZjE-6YPk-"
      },
      "cell_type": "code",
      "source": [
        "# Testando no conjunto de dados\n",
        "df['message'][:20].apply(process)"
      ],
      "execution_count": null,
      "outputs": []
    },
    {
      "metadata": {
        "_uuid": "579a14f6047395afbc14d0bf58d4871df63c48dc",
        "id": "M0c5l-l3YPk_"
      },
      "cell_type": "markdown",
      "source": [
        "**Converta cada mensagem em vetores que os modelos de aprendizado de máquina podem entender.Faremos isso usando o modelo bag-of-words**\n",
        "<br>Usaremos o TfidfVectorizer. Ele converterá a coleção de documentos de texto (corpus SMS) em uma matriz 2D.\n",
        "<br>Uma dimensão representa documentos e outra dimensão representa cada palavra única no corpus SMS.\n",
        "\n",
        "<br>Se o **n-ésimo termo t ocorreu p vezes no m-ésimo documento**, o valor (m, n) nesta matriz será TF-IDF(t), <br><center>onde [TF-IDF(t)](https://en.wikipedia.org/wiki/Tf–idf) = Frequência do termo (TF) * Frequência inversa do documento (IDF)</center>\n",
        "<br>A frequência do termo (TF) é uma medida de quão frequente um termo ocorre em um documento.<br>\n",
        "<br><center>TF(t)= Número de vezes que o termo t aparece no documento (p) / Número total de termos naquele documento</center>\n",
        "<br>A frequência inversa do documento (IDF) é uma medida de quão importante é o termo. Para TF, todos os termos são tratados igualmente. Mas, em IDF, para palavras que ocorrem frequentemente como 'é' 'o' 'de' recebem menos peso. Enquanto termos que ocorrem raramente e que podem facilmente ajudar a identificar a classe de recursos de entrada serão ponderados alto.<br>\n",
        "<br><center>Frequência de Documentos Inversa, IDF(t)= log<sub><i>e</i></sub>(Número total de documentos / Número de documentos com o termo t nele)</center>\n",
        "<br>No final, teremos para cada mensagem, vetores normalizados para comprimento unitário igual ao tamanho do vocábulo (número de termos exclusivos de todo o corpus SMS)"
      ]
    },
    {
      "metadata": {
        "trusted": true,
        "_uuid": "4711298940409577a836454bc669566f9f547535",
        "id": "YlZDGfiIYPk_"
      },
      "cell_type": "code",
      "source": [
        "from sklearn.feature_extraction.text import TfidfVectorizer"
      ],
      "execution_count": null,
      "outputs": []
    },
    {
      "metadata": {
        "_uuid": "99201820a778649a32132381142034c46ec69c7b",
        "id": "8f9FKdtaYPlB"
      },
      "cell_type": "markdown",
      "source": [
        "**Tranformando o corpus de mensagens**"
      ]
    },
    {
      "metadata": {
        "trusted": true,
        "_uuid": "0afb400d1c0b2e74bccc09e44b1698616034b003",
        "id": "PA0UlLIUYPlB"
      },
      "cell_type": "code",
      "source": [
        "tfidfv = TfidfVectorizer(analyzer=process)\n",
        "data = tfidfv.fit_transform(df['message'])"
      ],
      "execution_count": null,
      "outputs": []
    },
    {
      "metadata": {
        "_uuid": "109bbcdc37a3d9841220d1c057cc400af1bdaf2c",
        "id": "iGxo2itzYPlB"
      },
      "cell_type": "markdown",
      "source": [
        "**Vamos ver como isto transforma uma mensagem**"
      ]
    },
    {
      "metadata": {
        "trusted": true,
        "_uuid": "1f93614292ab0f16354350e1e4f4e71db843a785",
        "id": "88TOY1x7YPlC",
        "colab": {
          "base_uri": "https://localhost:8080/"
        },
        "outputId": "0155b247-5d60-485d-bd43-9030a7d987eb"
      },
      "cell_type": "code",
      "source": [
        "mess = df.iloc[2]['message']\n",
        "print(mess)"
      ],
      "execution_count": null,
      "outputs": [
        {
          "output_type": "stream",
          "name": "stdout",
          "text": [
            "Free entry in 2 a wkly comp to win FA Cup final tkts 21st May 2005. Text FA to 87121 to receive entry question(std txt rate)T&C's apply 08452810075over18's\n"
          ]
        }
      ]
    },
    {
      "metadata": {
        "trusted": true,
        "_uuid": "eff9cedfea7508bdafd8a361acbd82a554e16ea4",
        "id": "xO2cXUINYPlC"
      },
      "cell_type": "code",
      "source": [
        "print(tfidfv.transform([mess]))"
      ],
      "execution_count": null,
      "outputs": []
    },
    {
      "metadata": {
        "_uuid": "b6016b7a6f87bbfc96c63834da3166aa7806efd7",
        "id": "CT3k4Js4YPlC"
      },
      "cell_type": "markdown",
      "source": [
        "**Uma visão melhor**"
      ]
    },
    {
      "metadata": {
        "trusted": true,
        "_uuid": "ca0301f27a459041ed7ecbf4450352b7e4993034",
        "id": "HntJPNr1YPlD"
      },
      "cell_type": "code",
      "source": [
        "j = tfidfv.transform([mess]).toarray()[0]\n",
        "print('index\\tidf\\ttfidf\\tterm')\n",
        "for i in range(len(j)):\n",
        "    if j[i] != 0:\n",
        "        print(i, format(tfidfv.idf_[i], '.4f'), format(j[i], '.4f'), tfidfv.get_feature_names_out()[i],sep='\\t')"
      ],
      "execution_count": null,
      "outputs": []
    },
    {
      "metadata": {
        "_uuid": "8b59fb4f20880e31341d09e0590de002693d134c",
        "id": "Yn8mf48lYPlD"
      },
      "cell_type": "markdown",
      "source": [
        "**Tendo mensagens em forma de vetores, estamos prontos para treinar nosso classificador. Usaremos o Naive Bayes, que é um classificador bem conhecido ao trabalhar com dados de texto. Antes disso, usaremos o recurso de pipeline do sklearn para criar um pipeline do TfidfVectorizer seguido pelo Multinomial Naive Bayes.**\n",
        "\n",
        "A entrada será uma mensagem passada para o primeiro estágio TfidfVectorizer, que a transformará e a passará para o Naive Bayes Classifier para obter o rótulo de saída"
      ]
    },
    {
      "metadata": {
        "trusted": true,
        "_uuid": "5685a89bdfa619ae1413437aee6d4024077c73d3",
        "id": "aezTYwetYPlD"
      },
      "cell_type": "code",
      "source": [
        "from sklearn.pipeline import Pipeline\n",
        "from sklearn.naive_bayes import MultinomialNB\n",
        "spam_filter = Pipeline([\n",
        "    ('vectorizer', TfidfVectorizer(analyzer=process)), # mensagens convertidas com scores tf-idf\n",
        "    ('classifier', MultinomialNB())                    # treinamento com os dados do tf-idf\n",
        "])"
      ],
      "execution_count": null,
      "outputs": []
    },
    {
      "metadata": {
        "_uuid": "8707bbc4eb1ad42849c45793ff7c78e6977de6a1",
        "id": "FTI9gB0ZYPlD"
      },
      "cell_type": "markdown",
      "source": [
        "**Fazer a divisão entre treinamento e teste**"
      ]
    },
    {
      "metadata": {
        "trusted": true,
        "_uuid": "c946f692d4c604cb5c0b94d14ad049ae54db140c",
        "id": "rQswoPX0YPlD"
      },
      "cell_type": "code",
      "source": [
        "from sklearn.model_selection import train_test_split\n",
        "x_train, x_test, y_train, y_test = train_test_split(df['message'], df['label'], test_size=0.20, random_state = 21)"
      ],
      "execution_count": null,
      "outputs": []
    },
    {
      "metadata": {
        "_uuid": "ab41b3101572b0a7172e4936d2abd58995ec78b6",
        "id": "jX00XXy-YPlE"
      },
      "cell_type": "markdown",
      "source": [
        "**Treinar o spam_filter**"
      ]
    },
    {
      "metadata": {
        "trusted": true,
        "_uuid": "577d06464b3350f7c40b583818b75d97875205a0",
        "id": "WkIlOYcoYPlE"
      },
      "cell_type": "code",
      "source": [
        "spam_filter.fit(x_train, y_train)"
      ],
      "execution_count": null,
      "outputs": []
    },
    {
      "metadata": {
        "_uuid": "d8278911d15092c3c4b226636bab9c79b4dd310b",
        "id": "loCZx6RwYPlE"
      },
      "cell_type": "markdown",
      "source": [
        "**Predição para casos de teste**"
      ]
    },
    {
      "metadata": {
        "trusted": true,
        "_uuid": "0591c0c7bb36f033051855728908c2ef0b1fa2f5",
        "id": "czjPRBbQYPlF"
      },
      "cell_type": "code",
      "source": [
        "predictions = spam_filter.predict(x_test)"
      ],
      "execution_count": null,
      "outputs": []
    },
    {
      "metadata": {
        "trusted": true,
        "_uuid": "0b5dd451d1f1cf5cc1d7548720474bd0293b18b9",
        "id": "FZugZtF5YPlF"
      },
      "cell_type": "code",
      "source": [
        "count = 0\n",
        "for i in range(len(y_test)):\n",
        "    if y_test.iloc[i] != predictions[i]:\n",
        "        count += 1\n",
        "print('Número total de testes', len(y_test))\n",
        "print('Número de erros', count)"
      ],
      "execution_count": null,
      "outputs": []
    },
    {
      "metadata": {
        "_uuid": "17916e6ce16c1eee2f3fc765a87b247e8eb008aa",
        "id": "-6b001guYPlF"
      },
      "cell_type": "markdown",
      "source": [
        "**Checar quais foram os erros nas predições**"
      ]
    },
    {
      "metadata": {
        "trusted": true,
        "_uuid": "4e826b346995dd748e156f21122606458f6c8c7c",
        "id": "C_8jwbrQYPlG"
      },
      "cell_type": "code",
      "source": [
        "x_test[y_test != predictions]"
      ],
      "execution_count": null,
      "outputs": []
    },
    {
      "metadata": {
        "_uuid": "9493853ec664ba66d1dd3f4b65d3f222f861276c",
        "id": "3xuxjP-zYPlG"
      },
      "cell_type": "markdown",
      "source": [
        "**Utilizar a função report para melhores detalhes**"
      ]
    },
    {
      "metadata": {
        "trusted": true,
        "_uuid": "cf9b861cfd6e62d284c87d30e9b840c2271b60b2",
        "id": "Yn2iYUMjYPlG"
      },
      "cell_type": "code",
      "source": [
        "from sklearn.metrics import classification_report\n",
        "print(classification_report(predictions, y_test))"
      ],
      "execution_count": null,
      "outputs": []
    },
    {
      "metadata": {
        "_uuid": "6d5990efe944223128dc5baaaadf4382a5648956",
        "id": "etLSNzBtYPlG"
      },
      "cell_type": "markdown",
      "source": [
        "Olhando para a coluna de precisão (para ham, é 1,00), podemos dizer que todo o número de previsões erradas veio de spam previsto como ham. Está tudo bem e o custo de prever spam como ham é significativamente menor comparado com o de prever ham como spam."
      ]
    },
    {
      "metadata": {
        "_uuid": "0eb6dde3ac2244ebfe7f1ec9bf015719018d899b",
        "id": "gs_UvrSJYPlH"
      },
      "cell_type": "markdown",
      "source": [
        "**Função para dizer se uma mensagem é ham ou spam**"
      ]
    },
    {
      "metadata": {
        "trusted": true,
        "_uuid": "f471837c49484f5fbdcd71b21b649c1dd5cf0a02",
        "id": "o6xevjPXYPlH"
      },
      "cell_type": "code",
      "source": [
        "def detect_spam(s):\n",
        "    return spam_filter.predict([s])[0]\n",
        "detect_spam('Your cash-balance is currently 500 pounds - to maximize your cash-in now, send COLLECT to 83600.')"
      ],
      "execution_count": null,
      "outputs": []
    },
    {
      "metadata": {
        "trusted": true,
        "_uuid": "3a5017233497c29226537b67d8bec27c0c5a7955",
        "id": "nIZvUTQPYPlH"
      },
      "cell_type": "code",
      "source": [],
      "execution_count": null,
      "outputs": []
    },
    {
      "metadata": {
        "trusted": true,
        "_uuid": "a97ccd286fc063eac8dc521f97ae22f6e2851819",
        "id": "sCDmdtODYPlH"
      },
      "cell_type": "code",
      "source": [],
      "execution_count": null,
      "outputs": []
    }
  ],
  "metadata": {
    "kernelspec": {
      "display_name": "Python 3",
      "language": "python",
      "name": "python3"
    },
    "language_info": {
      "codemirror_mode": {
        "name": "ipython",
        "version": 3
      },
      "file_extension": ".py",
      "mimetype": "text/x-python",
      "name": "python",
      "nbconvert_exporter": "python",
      "pygments_lexer": "ipython3",
      "version": "3.6.5"
    },
    "colab": {
      "provenance": [],
      "include_colab_link": true
    }
  },
  "nbformat": 4,
  "nbformat_minor": 0
}