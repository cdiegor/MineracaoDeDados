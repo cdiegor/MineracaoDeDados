{
  "cells": [
    {
      "cell_type": "markdown",
      "metadata": {
        "id": "view-in-github",
        "colab_type": "text"
      },
      "source": [
        "<a href=\"https://colab.research.google.com/github/cdiegor/MineracaoDeDados/blob/main/Spam_Naive_Bayes.ipynb\" target=\"_parent\"><img src=\"https://colab.research.google.com/assets/colab-badge.svg\" alt=\"Open In Colab\"/></a>"
      ]
    },
    {
      "metadata": {
        "_uuid": "38fc7b0f579e283e26411cd01392d2015f5d59d3",
        "id": "lrcOdTEhYPk1"
      },
      "cell_type": "markdown",
      "source": [
        "# Filtro de spam usando um classificador Naive Bayes\n",
        "\n",
        "[original](https://www.kaggle.com/code/jeffysonar/spam-filter-using-naive-bayes-classifier)"
      ]
    },
    {
      "metadata": {
        "_uuid": "52bd1fe4c789af10c8f6bcebe9e3c8fd3c101781",
        "id": "iNHugCHlYPk3"
      },
      "cell_type": "markdown",
      "source": [
        "**Importar bibliotecas**"
      ]
    },
    {
      "metadata": {
        "trusted": true,
        "_uuid": "11ce4eaf13356cd47e341aea85670f36a13164d8",
        "id": "DStp8ihlYPk4"
      },
      "cell_type": "code",
      "source": [
        "import numpy as np\n",
        "import pandas as pd\n",
        "import matplotlib.pyplot as plt\n",
        "import seaborn as sns\n",
        "%matplotlib inline"
      ],
      "execution_count": null,
      "outputs": []
    },
    {
      "metadata": {
        "_uuid": "6213264582afb6541e4ae286710ac0051a859685",
        "id": "IZlIXiJIYPk5"
      },
      "cell_type": "markdown",
      "source": [
        "**Leitura do arquivo CSV**"
      ]
    },
    {
      "metadata": {
        "trusted": true,
        "_uuid": "8163f26bff8891be58ce9cbf544d8a67f71974ec",
        "id": "A6VxyDToYPk6"
      },
      "cell_type": "code",
      "source": [
        "df = pd.read_csv('spam.csv', encoding='latin-1')[['v1', 'v2']]\n",
        "df.columns = ['label', 'message']\n",
        "df.head()"
      ],
      "execution_count": null,
      "outputs": []
    },
    {
      "metadata": {
        "_uuid": "431a0a9e236da04a37713645f200e580124bdae4",
        "id": "8Qox4puNYPk6"
      },
      "cell_type": "markdown",
      "source": [
        "**Mostrar o conjunto de dados e contagem de ham/spam**"
      ]
    },
    {
      "metadata": {
        "trusted": true,
        "_uuid": "95fa040f71997610cba921618485ae2d465e1188",
        "id": "o6MrtUZ-YPk7"
      },
      "cell_type": "code",
      "source": [
        "df.groupby('label').describe()"
      ],
      "execution_count": null,
      "outputs": []
    },
    {
      "metadata": {
        "trusted": true,
        "_uuid": "79bbf66e99ac1a0c4c71dcdd7854060037682c06",
        "id": "XX6BQfu_YPk8"
      },
      "cell_type": "code",
      "source": [
        "sns.countplot(data=df, x='label')"
      ],
      "execution_count": null,
      "outputs": []
    },
    {
      "metadata": {
        "_uuid": "60d48951ca5086115e08ede667a162ee9b92073a",
        "id": "IthHC6KsYPk8"
      },
      "cell_type": "markdown",
      "source": [
        "**Passos para realizar o nosso filtro de spam:**\n",
        "\n",
        "1. Limpar e normalizar o texto\n",
        "2. Converter o texto em vetores de palavras (utilizando o modelo *bag of words*) para que os modelos de aprendizado consigam entender.\n",
        "3. Treinar e testar o classificador."
      ]
    },
    {
      "metadata": {
        "_uuid": "519a4d4c06557a8623252baaff13054162cf7ab5",
        "id": "YwRlKkGNYPk9"
      },
      "cell_type": "markdown",
      "source": [
        "**Limpando e normalizando o texto**\n",
        "1. Remover pontuação\n",
        "2. Remover *stopwords*\n",
        "3. Aplicar [stemming](https://en.wikipedia.org/wiki/Stemming) (extrair a raiz das palavras)."
      ]
    },
    {
      "metadata": {
        "_uuid": "6969645b7c1eae007f7c533cb01f66e7524637bf",
        "id": "aOmIZdxyYPk9"
      },
      "cell_type": "markdown",
      "source": [
        "** Método process recebe um texto e aplica os passos 1, 2 e 3, retornando uma string que consiste na lista de palavras restantes.**"
      ]
    },
    {
      "cell_type": "code",
      "source": [
        "import nltk\n",
        "nltk.download('stopwords')"
      ],
      "metadata": {
        "id": "uHpJg5wmcY4J"
      },
      "execution_count": null,
      "outputs": []
    },
    {
      "metadata": {
        "trusted": true,
        "_uuid": "500971b5d102765bb5e6537943dd3e3d7ce9af02",
        "id": "lxWgHGvbYPk-"
      },
      "cell_type": "code",
      "source": [
        "import string\n",
        "from nltk.corpus import stopwords\n",
        "from nltk import PorterStemmer as Stemmer\n",
        "def process(text):\n",
        "    # Caixa baixa\n",
        "    text = text.lower()\n",
        "    # Remover a pontuação\n",
        "    text = ''.join([t for t in text if t not in string.punctuation])\n",
        "    # Remover as stopwords\n",
        "    text = [t for t in text.split() if t not in stopwords.words('english')]\n",
        "    # Raiz das palavras\n",
        "    st = Stemmer()\n",
        "    text = [st.stem(t) for t in text]\n",
        "    # Retornar o texto modificado\n",
        "    return text"
      ],
      "execution_count": null,
      "outputs": []
    },
    {
      "metadata": {
        "trusted": true,
        "_uuid": "21d1a8ec02208c20664d67770a94fc0261920f1a",
        "id": "ow2iaIodYPk-"
      },
      "cell_type": "code",
      "source": [
        "# Testando\n",
        "process('It\\'s holiday and we are playing cricket. Jeff is playing very well!!!')"
      ],
      "execution_count": null,
      "outputs": []
    },
    {
      "metadata": {
        "trusted": true,
        "_uuid": "659631e15f988f3f7282eaea14799243a7e25b5f",
        "id": "DRaZjE-6YPk-"
      },
      "cell_type": "code",
      "source": [
        "# Testando no conjunto de dados\n",
        "df['message'][:20].apply(process)"
      ],
      "execution_count": null,
      "outputs": []
    },
    {
      "metadata": {
        "_uuid": "579a14f6047395afbc14d0bf58d4871df63c48dc",
        "id": "M0c5l-l3YPk_"
      },
      "cell_type": "markdown",
      "source": [
        "**Converta cada mensagem em vetores que os modelos de aprendizado de máquina podem entender.Faremos isso usando o modelo bag-of-words**\n",
        "<br>Usaremos o TfidfVectorizer. Ele converterá a coleção de documentos de texto (corpus SMS) em uma matriz 2D.\n",
        "<br>Uma dimensão representa documentos e outra dimensão representa cada palavra única no corpus SMS.\n",
        "\n",
        "<br>Se o **n-ésimo termo t ocorreu p vezes no m-ésimo documento**, o valor (m, n) nesta matriz será TF-IDF(t), <br><center>onde [TF-IDF(t)](https://en.wikipedia.org/wiki/Tf–idf) = Frequência do termo (TF) * Frequência inversa do documento (IDF)</center>\n",
        "<br>A frequência do termo (TF) é uma medida de quão frequente um termo ocorre em um documento.<br>\n",
        "<br><center>TF(t)= Número de vezes que o termo t aparece no documento (p) / Número total de termos naquele documento</center>\n",
        "<br>A frequência inversa do documento (IDF) é uma medida de quão importante é o termo. Para TF, todos os termos são tratados igualmente. Mas, em IDF, para palavras que ocorrem frequentemente como 'é' 'o' 'de' recebem menos peso. Enquanto termos que ocorrem raramente e que podem facilmente ajudar a identificar a classe de recursos de entrada serão ponderados alto.<br>\n",
        "<br><center>Frequência de Documentos Inversa, IDF(t)= log<sub><i>e</i></sub>(Número total de documentos / Número de documentos com o termo t nele)</center>\n",
        "<br>No final, teremos para cada mensagem, vetores normalizados para comprimento unitário igual ao tamanho do vocábulo (número de termos exclusivos de todo o corpus SMS)"
      ]
    },
    {
      "metadata": {
        "trusted": true,
        "_uuid": "4711298940409577a836454bc669566f9f547535",
        "id": "YlZDGfiIYPk_"
      },
      "cell_type": "code",
      "source": [
        "from sklearn.feature_extraction.text import TfidfVectorizer"
      ],
      "execution_count": null,
      "outputs": []
    },
    {
      "metadata": {
        "_uuid": "99201820a778649a32132381142034c46ec69c7b",
        "id": "8f9FKdtaYPlB"
      },
      "cell_type": "markdown",
      "source": [
        "**Tranformando o corpus de mensagens**"
      ]
    },
    {
      "metadata": {
        "trusted": true,
        "_uuid": "0afb400d1c0b2e74bccc09e44b1698616034b003",
        "id": "PA0UlLIUYPlB"
      },
      "cell_type": "code",
      "source": [
        "tfidfv = TfidfVectorizer(analyzer=process)\n",
        "data = tfidfv.fit_transform(df['message'])"
      ],
      "execution_count": null,
      "outputs": []
    },
    {
      "metadata": {
        "_uuid": "109bbcdc37a3d9841220d1c057cc400af1bdaf2c",
        "id": "iGxo2itzYPlB"
      },
      "cell_type": "markdown",
      "source": [
        "**Vamos ver como isto transforma uma mensagem**"
      ]
    },
    {
      "metadata": {
        "trusted": true,
        "_uuid": "1f93614292ab0f16354350e1e4f4e71db843a785",
        "id": "88TOY1x7YPlC"
      },
      "cell_type": "code",
      "source": [
        "mess = df.iloc[2]['message']\n",
        "print(mess)"
      ],
      "execution_count": null,
      "outputs": []
    },
    {
      "metadata": {
        "trusted": true,
        "_uuid": "eff9cedfea7508bdafd8a361acbd82a554e16ea4",
        "id": "xO2cXUINYPlC"
      },
      "cell_type": "code",
      "source": [
        "print(tfidfv.transform([mess]))"
      ],
      "execution_count": null,
      "outputs": []
    },
    {
      "metadata": {
        "_uuid": "b6016b7a6f87bbfc96c63834da3166aa7806efd7",
        "id": "CT3k4Js4YPlC"
      },
      "cell_type": "markdown",
      "source": [
        "**Uma visão melhor**"
      ]
    },
    {
      "metadata": {
        "trusted": true,
        "_uuid": "ca0301f27a459041ed7ecbf4450352b7e4993034",
        "id": "HntJPNr1YPlD"
      },
      "cell_type": "code",
      "source": [
        "j = tfidfv.transform([mess]).toarray()[0]\n",
        "print('index\\tidf\\ttfidf\\tterm')\n",
        "for i in range(len(j)):\n",
        "    if j[i] != 0:\n",
        "        print(i, format(tfidfv.idf_[i], '.4f'), format(j[i], '.4f'), tfidfv.get_feature_names_out()[i],sep='\\t')"
      ],
      "execution_count": null,
      "outputs": []
    },
    {
      "metadata": {
        "_uuid": "8b59fb4f20880e31341d09e0590de002693d134c",
        "id": "Yn8mf48lYPlD"
      },
      "cell_type": "markdown",
      "source": [
        "**Tendo mensagens em forma de vetores, estamos prontos para treinar nosso classificador. Usaremos o Naive Bayes, que é um classificador bem conhecido ao trabalhar com dados de texto. Antes disso, usaremos o recurso de pipeline do sklearn para criar um pipeline do TfidfVectorizer seguido pelo Multinomial Naive Bayes.**\n",
        "\n",
        "A entrada será uma mensagem passada para o primeiro estágio TfidfVectorizer, que a transformará e a passará para o Naive Bayes Classifier para obter o rótulo de saída"
      ]
    },
    {
      "metadata": {
        "trusted": true,
        "_uuid": "5685a89bdfa619ae1413437aee6d4024077c73d3",
        "id": "aezTYwetYPlD"
      },
      "cell_type": "code",
      "source": [
        "from sklearn.pipeline import Pipeline\n",
        "from sklearn.naive_bayes import MultinomialNB\n",
        "spam_filter = Pipeline([\n",
        "    ('vectorizer', TfidfVectorizer(analyzer=process)), # mensagens convertidas com scores tf-idf\n",
        "    ('classifier', MultinomialNB())                    # treinamento com os dados do tf-idf\n",
        "])"
      ],
      "execution_count": null,
      "outputs": []
    },
    {
      "metadata": {
        "_uuid": "8707bbc4eb1ad42849c45793ff7c78e6977de6a1",
        "id": "FTI9gB0ZYPlD"
      },
      "cell_type": "markdown",
      "source": [
        "**Fazer a divisão entre treinamento e teste**"
      ]
    },
    {
      "metadata": {
        "trusted": true,
        "_uuid": "c946f692d4c604cb5c0b94d14ad049ae54db140c",
        "id": "rQswoPX0YPlD"
      },
      "cell_type": "code",
      "source": [
        "from sklearn.model_selection import train_test_split\n",
        "x_train, x_test, y_train, y_test = train_test_split(df['message'], df['label'], test_size=0.20, random_state = 21)"
      ],
      "execution_count": null,
      "outputs": []
    },
    {
      "metadata": {
        "_uuid": "ab41b3101572b0a7172e4936d2abd58995ec78b6",
        "id": "jX00XXy-YPlE"
      },
      "cell_type": "markdown",
      "source": [
        "**Treinar o spam_filter**"
      ]
    },
    {
      "metadata": {
        "trusted": true,
        "_uuid": "577d06464b3350f7c40b583818b75d97875205a0",
        "id": "WkIlOYcoYPlE",
        "outputId": "6225b864-1440-4659-9f0f-371067520f26",
        "colab": {
          "base_uri": "https://localhost:8080/",
          "height": 189
        }
      },
      "cell_type": "code",
      "source": [
        "spam_filter.fit(x_train, y_train)"
      ],
      "execution_count": null,
      "outputs": [
        {
          "output_type": "execute_result",
          "data": {
            "text/plain": [
              "Pipeline(steps=[('vectorizer',\n",
              "                 TfidfVectorizer(analyzer=<function process at 0x782f03f040d0>)),\n",
              "                ('classifier', MultinomialNB())])"
            ],
            "text/html": [
              "<style>#sk-container-id-1 {\n",
              "  /* Definition of color scheme common for light and dark mode */\n",
              "  --sklearn-color-text: black;\n",
              "  --sklearn-color-line: gray;\n",
              "  /* Definition of color scheme for unfitted estimators */\n",
              "  --sklearn-color-unfitted-level-0: #fff5e6;\n",
              "  --sklearn-color-unfitted-level-1: #f6e4d2;\n",
              "  --sklearn-color-unfitted-level-2: #ffe0b3;\n",
              "  --sklearn-color-unfitted-level-3: chocolate;\n",
              "  /* Definition of color scheme for fitted estimators */\n",
              "  --sklearn-color-fitted-level-0: #f0f8ff;\n",
              "  --sklearn-color-fitted-level-1: #d4ebff;\n",
              "  --sklearn-color-fitted-level-2: #b3dbfd;\n",
              "  --sklearn-color-fitted-level-3: cornflowerblue;\n",
              "\n",
              "  /* Specific color for light theme */\n",
              "  --sklearn-color-text-on-default-background: var(--sg-text-color, var(--theme-code-foreground, var(--jp-content-font-color1, black)));\n",
              "  --sklearn-color-background: var(--sg-background-color, var(--theme-background, var(--jp-layout-color0, white)));\n",
              "  --sklearn-color-border-box: var(--sg-text-color, var(--theme-code-foreground, var(--jp-content-font-color1, black)));\n",
              "  --sklearn-color-icon: #696969;\n",
              "\n",
              "  @media (prefers-color-scheme: dark) {\n",
              "    /* Redefinition of color scheme for dark theme */\n",
              "    --sklearn-color-text-on-default-background: var(--sg-text-color, var(--theme-code-foreground, var(--jp-content-font-color1, white)));\n",
              "    --sklearn-color-background: var(--sg-background-color, var(--theme-background, var(--jp-layout-color0, #111)));\n",
              "    --sklearn-color-border-box: var(--sg-text-color, var(--theme-code-foreground, var(--jp-content-font-color1, white)));\n",
              "    --sklearn-color-icon: #878787;\n",
              "  }\n",
              "}\n",
              "\n",
              "#sk-container-id-1 {\n",
              "  color: var(--sklearn-color-text);\n",
              "}\n",
              "\n",
              "#sk-container-id-1 pre {\n",
              "  padding: 0;\n",
              "}\n",
              "\n",
              "#sk-container-id-1 input.sk-hidden--visually {\n",
              "  border: 0;\n",
              "  clip: rect(1px 1px 1px 1px);\n",
              "  clip: rect(1px, 1px, 1px, 1px);\n",
              "  height: 1px;\n",
              "  margin: -1px;\n",
              "  overflow: hidden;\n",
              "  padding: 0;\n",
              "  position: absolute;\n",
              "  width: 1px;\n",
              "}\n",
              "\n",
              "#sk-container-id-1 div.sk-dashed-wrapped {\n",
              "  border: 1px dashed var(--sklearn-color-line);\n",
              "  margin: 0 0.4em 0.5em 0.4em;\n",
              "  box-sizing: border-box;\n",
              "  padding-bottom: 0.4em;\n",
              "  background-color: var(--sklearn-color-background);\n",
              "}\n",
              "\n",
              "#sk-container-id-1 div.sk-container {\n",
              "  /* jupyter's `normalize.less` sets `[hidden] { display: none; }`\n",
              "     but bootstrap.min.css set `[hidden] { display: none !important; }`\n",
              "     so we also need the `!important` here to be able to override the\n",
              "     default hidden behavior on the sphinx rendered scikit-learn.org.\n",
              "     See: https://github.com/scikit-learn/scikit-learn/issues/21755 */\n",
              "  display: inline-block !important;\n",
              "  position: relative;\n",
              "}\n",
              "\n",
              "#sk-container-id-1 div.sk-text-repr-fallback {\n",
              "  display: none;\n",
              "}\n",
              "\n",
              "div.sk-parallel-item,\n",
              "div.sk-serial,\n",
              "div.sk-item {\n",
              "  /* draw centered vertical line to link estimators */\n",
              "  background-image: linear-gradient(var(--sklearn-color-text-on-default-background), var(--sklearn-color-text-on-default-background));\n",
              "  background-size: 2px 100%;\n",
              "  background-repeat: no-repeat;\n",
              "  background-position: center center;\n",
              "}\n",
              "\n",
              "/* Parallel-specific style estimator block */\n",
              "\n",
              "#sk-container-id-1 div.sk-parallel-item::after {\n",
              "  content: \"\";\n",
              "  width: 100%;\n",
              "  border-bottom: 2px solid var(--sklearn-color-text-on-default-background);\n",
              "  flex-grow: 1;\n",
              "}\n",
              "\n",
              "#sk-container-id-1 div.sk-parallel {\n",
              "  display: flex;\n",
              "  align-items: stretch;\n",
              "  justify-content: center;\n",
              "  background-color: var(--sklearn-color-background);\n",
              "  position: relative;\n",
              "}\n",
              "\n",
              "#sk-container-id-1 div.sk-parallel-item {\n",
              "  display: flex;\n",
              "  flex-direction: column;\n",
              "}\n",
              "\n",
              "#sk-container-id-1 div.sk-parallel-item:first-child::after {\n",
              "  align-self: flex-end;\n",
              "  width: 50%;\n",
              "}\n",
              "\n",
              "#sk-container-id-1 div.sk-parallel-item:last-child::after {\n",
              "  align-self: flex-start;\n",
              "  width: 50%;\n",
              "}\n",
              "\n",
              "#sk-container-id-1 div.sk-parallel-item:only-child::after {\n",
              "  width: 0;\n",
              "}\n",
              "\n",
              "/* Serial-specific style estimator block */\n",
              "\n",
              "#sk-container-id-1 div.sk-serial {\n",
              "  display: flex;\n",
              "  flex-direction: column;\n",
              "  align-items: center;\n",
              "  background-color: var(--sklearn-color-background);\n",
              "  padding-right: 1em;\n",
              "  padding-left: 1em;\n",
              "}\n",
              "\n",
              "\n",
              "/* Toggleable style: style used for estimator/Pipeline/ColumnTransformer box that is\n",
              "clickable and can be expanded/collapsed.\n",
              "- Pipeline and ColumnTransformer use this feature and define the default style\n",
              "- Estimators will overwrite some part of the style using the `sk-estimator` class\n",
              "*/\n",
              "\n",
              "/* Pipeline and ColumnTransformer style (default) */\n",
              "\n",
              "#sk-container-id-1 div.sk-toggleable {\n",
              "  /* Default theme specific background. It is overwritten whether we have a\n",
              "  specific estimator or a Pipeline/ColumnTransformer */\n",
              "  background-color: var(--sklearn-color-background);\n",
              "}\n",
              "\n",
              "/* Toggleable label */\n",
              "#sk-container-id-1 label.sk-toggleable__label {\n",
              "  cursor: pointer;\n",
              "  display: block;\n",
              "  width: 100%;\n",
              "  margin-bottom: 0;\n",
              "  padding: 0.5em;\n",
              "  box-sizing: border-box;\n",
              "  text-align: center;\n",
              "}\n",
              "\n",
              "#sk-container-id-1 label.sk-toggleable__label-arrow:before {\n",
              "  /* Arrow on the left of the label */\n",
              "  content: \"▸\";\n",
              "  float: left;\n",
              "  margin-right: 0.25em;\n",
              "  color: var(--sklearn-color-icon);\n",
              "}\n",
              "\n",
              "#sk-container-id-1 label.sk-toggleable__label-arrow:hover:before {\n",
              "  color: var(--sklearn-color-text);\n",
              "}\n",
              "\n",
              "/* Toggleable content - dropdown */\n",
              "\n",
              "#sk-container-id-1 div.sk-toggleable__content {\n",
              "  max-height: 0;\n",
              "  max-width: 0;\n",
              "  overflow: hidden;\n",
              "  text-align: left;\n",
              "  /* unfitted */\n",
              "  background-color: var(--sklearn-color-unfitted-level-0);\n",
              "}\n",
              "\n",
              "#sk-container-id-1 div.sk-toggleable__content.fitted {\n",
              "  /* fitted */\n",
              "  background-color: var(--sklearn-color-fitted-level-0);\n",
              "}\n",
              "\n",
              "#sk-container-id-1 div.sk-toggleable__content pre {\n",
              "  margin: 0.2em;\n",
              "  border-radius: 0.25em;\n",
              "  color: var(--sklearn-color-text);\n",
              "  /* unfitted */\n",
              "  background-color: var(--sklearn-color-unfitted-level-0);\n",
              "}\n",
              "\n",
              "#sk-container-id-1 div.sk-toggleable__content.fitted pre {\n",
              "  /* unfitted */\n",
              "  background-color: var(--sklearn-color-fitted-level-0);\n",
              "}\n",
              "\n",
              "#sk-container-id-1 input.sk-toggleable__control:checked~div.sk-toggleable__content {\n",
              "  /* Expand drop-down */\n",
              "  max-height: 200px;\n",
              "  max-width: 100%;\n",
              "  overflow: auto;\n",
              "}\n",
              "\n",
              "#sk-container-id-1 input.sk-toggleable__control:checked~label.sk-toggleable__label-arrow:before {\n",
              "  content: \"▾\";\n",
              "}\n",
              "\n",
              "/* Pipeline/ColumnTransformer-specific style */\n",
              "\n",
              "#sk-container-id-1 div.sk-label input.sk-toggleable__control:checked~label.sk-toggleable__label {\n",
              "  color: var(--sklearn-color-text);\n",
              "  background-color: var(--sklearn-color-unfitted-level-2);\n",
              "}\n",
              "\n",
              "#sk-container-id-1 div.sk-label.fitted input.sk-toggleable__control:checked~label.sk-toggleable__label {\n",
              "  background-color: var(--sklearn-color-fitted-level-2);\n",
              "}\n",
              "\n",
              "/* Estimator-specific style */\n",
              "\n",
              "/* Colorize estimator box */\n",
              "#sk-container-id-1 div.sk-estimator input.sk-toggleable__control:checked~label.sk-toggleable__label {\n",
              "  /* unfitted */\n",
              "  background-color: var(--sklearn-color-unfitted-level-2);\n",
              "}\n",
              "\n",
              "#sk-container-id-1 div.sk-estimator.fitted input.sk-toggleable__control:checked~label.sk-toggleable__label {\n",
              "  /* fitted */\n",
              "  background-color: var(--sklearn-color-fitted-level-2);\n",
              "}\n",
              "\n",
              "#sk-container-id-1 div.sk-label label.sk-toggleable__label,\n",
              "#sk-container-id-1 div.sk-label label {\n",
              "  /* The background is the default theme color */\n",
              "  color: var(--sklearn-color-text-on-default-background);\n",
              "}\n",
              "\n",
              "/* On hover, darken the color of the background */\n",
              "#sk-container-id-1 div.sk-label:hover label.sk-toggleable__label {\n",
              "  color: var(--sklearn-color-text);\n",
              "  background-color: var(--sklearn-color-unfitted-level-2);\n",
              "}\n",
              "\n",
              "/* Label box, darken color on hover, fitted */\n",
              "#sk-container-id-1 div.sk-label.fitted:hover label.sk-toggleable__label.fitted {\n",
              "  color: var(--sklearn-color-text);\n",
              "  background-color: var(--sklearn-color-fitted-level-2);\n",
              "}\n",
              "\n",
              "/* Estimator label */\n",
              "\n",
              "#sk-container-id-1 div.sk-label label {\n",
              "  font-family: monospace;\n",
              "  font-weight: bold;\n",
              "  display: inline-block;\n",
              "  line-height: 1.2em;\n",
              "}\n",
              "\n",
              "#sk-container-id-1 div.sk-label-container {\n",
              "  text-align: center;\n",
              "}\n",
              "\n",
              "/* Estimator-specific */\n",
              "#sk-container-id-1 div.sk-estimator {\n",
              "  font-family: monospace;\n",
              "  border: 1px dotted var(--sklearn-color-border-box);\n",
              "  border-radius: 0.25em;\n",
              "  box-sizing: border-box;\n",
              "  margin-bottom: 0.5em;\n",
              "  /* unfitted */\n",
              "  background-color: var(--sklearn-color-unfitted-level-0);\n",
              "}\n",
              "\n",
              "#sk-container-id-1 div.sk-estimator.fitted {\n",
              "  /* fitted */\n",
              "  background-color: var(--sklearn-color-fitted-level-0);\n",
              "}\n",
              "\n",
              "/* on hover */\n",
              "#sk-container-id-1 div.sk-estimator:hover {\n",
              "  /* unfitted */\n",
              "  background-color: var(--sklearn-color-unfitted-level-2);\n",
              "}\n",
              "\n",
              "#sk-container-id-1 div.sk-estimator.fitted:hover {\n",
              "  /* fitted */\n",
              "  background-color: var(--sklearn-color-fitted-level-2);\n",
              "}\n",
              "\n",
              "/* Specification for estimator info (e.g. \"i\" and \"?\") */\n",
              "\n",
              "/* Common style for \"i\" and \"?\" */\n",
              "\n",
              ".sk-estimator-doc-link,\n",
              "a:link.sk-estimator-doc-link,\n",
              "a:visited.sk-estimator-doc-link {\n",
              "  float: right;\n",
              "  font-size: smaller;\n",
              "  line-height: 1em;\n",
              "  font-family: monospace;\n",
              "  background-color: var(--sklearn-color-background);\n",
              "  border-radius: 1em;\n",
              "  height: 1em;\n",
              "  width: 1em;\n",
              "  text-decoration: none !important;\n",
              "  margin-left: 1ex;\n",
              "  /* unfitted */\n",
              "  border: var(--sklearn-color-unfitted-level-1) 1pt solid;\n",
              "  color: var(--sklearn-color-unfitted-level-1);\n",
              "}\n",
              "\n",
              ".sk-estimator-doc-link.fitted,\n",
              "a:link.sk-estimator-doc-link.fitted,\n",
              "a:visited.sk-estimator-doc-link.fitted {\n",
              "  /* fitted */\n",
              "  border: var(--sklearn-color-fitted-level-1) 1pt solid;\n",
              "  color: var(--sklearn-color-fitted-level-1);\n",
              "}\n",
              "\n",
              "/* On hover */\n",
              "div.sk-estimator:hover .sk-estimator-doc-link:hover,\n",
              ".sk-estimator-doc-link:hover,\n",
              "div.sk-label-container:hover .sk-estimator-doc-link:hover,\n",
              ".sk-estimator-doc-link:hover {\n",
              "  /* unfitted */\n",
              "  background-color: var(--sklearn-color-unfitted-level-3);\n",
              "  color: var(--sklearn-color-background);\n",
              "  text-decoration: none;\n",
              "}\n",
              "\n",
              "div.sk-estimator.fitted:hover .sk-estimator-doc-link.fitted:hover,\n",
              ".sk-estimator-doc-link.fitted:hover,\n",
              "div.sk-label-container:hover .sk-estimator-doc-link.fitted:hover,\n",
              ".sk-estimator-doc-link.fitted:hover {\n",
              "  /* fitted */\n",
              "  background-color: var(--sklearn-color-fitted-level-3);\n",
              "  color: var(--sklearn-color-background);\n",
              "  text-decoration: none;\n",
              "}\n",
              "\n",
              "/* Span, style for the box shown on hovering the info icon */\n",
              ".sk-estimator-doc-link span {\n",
              "  display: none;\n",
              "  z-index: 9999;\n",
              "  position: relative;\n",
              "  font-weight: normal;\n",
              "  right: .2ex;\n",
              "  padding: .5ex;\n",
              "  margin: .5ex;\n",
              "  width: min-content;\n",
              "  min-width: 20ex;\n",
              "  max-width: 50ex;\n",
              "  color: var(--sklearn-color-text);\n",
              "  box-shadow: 2pt 2pt 4pt #999;\n",
              "  /* unfitted */\n",
              "  background: var(--sklearn-color-unfitted-level-0);\n",
              "  border: .5pt solid var(--sklearn-color-unfitted-level-3);\n",
              "}\n",
              "\n",
              ".sk-estimator-doc-link.fitted span {\n",
              "  /* fitted */\n",
              "  background: var(--sklearn-color-fitted-level-0);\n",
              "  border: var(--sklearn-color-fitted-level-3);\n",
              "}\n",
              "\n",
              ".sk-estimator-doc-link:hover span {\n",
              "  display: block;\n",
              "}\n",
              "\n",
              "/* \"?\"-specific style due to the `<a>` HTML tag */\n",
              "\n",
              "#sk-container-id-1 a.estimator_doc_link {\n",
              "  float: right;\n",
              "  font-size: 1rem;\n",
              "  line-height: 1em;\n",
              "  font-family: monospace;\n",
              "  background-color: var(--sklearn-color-background);\n",
              "  border-radius: 1rem;\n",
              "  height: 1rem;\n",
              "  width: 1rem;\n",
              "  text-decoration: none;\n",
              "  /* unfitted */\n",
              "  color: var(--sklearn-color-unfitted-level-1);\n",
              "  border: var(--sklearn-color-unfitted-level-1) 1pt solid;\n",
              "}\n",
              "\n",
              "#sk-container-id-1 a.estimator_doc_link.fitted {\n",
              "  /* fitted */\n",
              "  border: var(--sklearn-color-fitted-level-1) 1pt solid;\n",
              "  color: var(--sklearn-color-fitted-level-1);\n",
              "}\n",
              "\n",
              "/* On hover */\n",
              "#sk-container-id-1 a.estimator_doc_link:hover {\n",
              "  /* unfitted */\n",
              "  background-color: var(--sklearn-color-unfitted-level-3);\n",
              "  color: var(--sklearn-color-background);\n",
              "  text-decoration: none;\n",
              "}\n",
              "\n",
              "#sk-container-id-1 a.estimator_doc_link.fitted:hover {\n",
              "  /* fitted */\n",
              "  background-color: var(--sklearn-color-fitted-level-3);\n",
              "}\n",
              "</style><div id=\"sk-container-id-1\" class=\"sk-top-container\"><div class=\"sk-text-repr-fallback\"><pre>Pipeline(steps=[(&#x27;vectorizer&#x27;,\n",
              "                 TfidfVectorizer(analyzer=&lt;function process at 0x782f03f040d0&gt;)),\n",
              "                (&#x27;classifier&#x27;, MultinomialNB())])</pre><b>In a Jupyter environment, please rerun this cell to show the HTML representation or trust the notebook. <br />On GitHub, the HTML representation is unable to render, please try loading this page with nbviewer.org.</b></div><div class=\"sk-container\" hidden><div class=\"sk-item sk-dashed-wrapped\"><div class=\"sk-label-container\"><div class=\"sk-label fitted sk-toggleable\"><input class=\"sk-toggleable__control sk-hidden--visually\" id=\"sk-estimator-id-1\" type=\"checkbox\" ><label for=\"sk-estimator-id-1\" class=\"sk-toggleable__label fitted sk-toggleable__label-arrow fitted\">&nbsp;&nbsp;Pipeline<a class=\"sk-estimator-doc-link fitted\" rel=\"noreferrer\" target=\"_blank\" href=\"https://scikit-learn.org/1.5/modules/generated/sklearn.pipeline.Pipeline.html\">?<span>Documentation for Pipeline</span></a><span class=\"sk-estimator-doc-link fitted\">i<span>Fitted</span></span></label><div class=\"sk-toggleable__content fitted\"><pre>Pipeline(steps=[(&#x27;vectorizer&#x27;,\n",
              "                 TfidfVectorizer(analyzer=&lt;function process at 0x782f03f040d0&gt;)),\n",
              "                (&#x27;classifier&#x27;, MultinomialNB())])</pre></div> </div></div><div class=\"sk-serial\"><div class=\"sk-item\"><div class=\"sk-estimator fitted sk-toggleable\"><input class=\"sk-toggleable__control sk-hidden--visually\" id=\"sk-estimator-id-2\" type=\"checkbox\" ><label for=\"sk-estimator-id-2\" class=\"sk-toggleable__label fitted sk-toggleable__label-arrow fitted\">&nbsp;TfidfVectorizer<a class=\"sk-estimator-doc-link fitted\" rel=\"noreferrer\" target=\"_blank\" href=\"https://scikit-learn.org/1.5/modules/generated/sklearn.feature_extraction.text.TfidfVectorizer.html\">?<span>Documentation for TfidfVectorizer</span></a></label><div class=\"sk-toggleable__content fitted\"><pre>TfidfVectorizer(analyzer=&lt;function process at 0x782f03f040d0&gt;)</pre></div> </div></div><div class=\"sk-item\"><div class=\"sk-estimator fitted sk-toggleable\"><input class=\"sk-toggleable__control sk-hidden--visually\" id=\"sk-estimator-id-3\" type=\"checkbox\" ><label for=\"sk-estimator-id-3\" class=\"sk-toggleable__label fitted sk-toggleable__label-arrow fitted\">&nbsp;MultinomialNB<a class=\"sk-estimator-doc-link fitted\" rel=\"noreferrer\" target=\"_blank\" href=\"https://scikit-learn.org/1.5/modules/generated/sklearn.naive_bayes.MultinomialNB.html\">?<span>Documentation for MultinomialNB</span></a></label><div class=\"sk-toggleable__content fitted\"><pre>MultinomialNB()</pre></div> </div></div></div></div></div></div>"
            ]
          },
          "metadata": {},
          "execution_count": 25
        }
      ]
    },
    {
      "metadata": {
        "_uuid": "d8278911d15092c3c4b226636bab9c79b4dd310b",
        "id": "loCZx6RwYPlE"
      },
      "cell_type": "markdown",
      "source": [
        "**Predição para casos de teste**"
      ]
    },
    {
      "metadata": {
        "trusted": true,
        "_uuid": "0591c0c7bb36f033051855728908c2ef0b1fa2f5",
        "id": "czjPRBbQYPlF"
      },
      "cell_type": "code",
      "source": [
        "predictions = spam_filter.predict(x_test)"
      ],
      "execution_count": null,
      "outputs": []
    },
    {
      "metadata": {
        "trusted": true,
        "_uuid": "0b5dd451d1f1cf5cc1d7548720474bd0293b18b9",
        "id": "FZugZtF5YPlF",
        "outputId": "d4e68c9e-d4e3-4e43-d741-d979f6a479b1",
        "colab": {
          "base_uri": "https://localhost:8080/"
        }
      },
      "cell_type": "code",
      "source": [
        "count = 0\n",
        "for i in range(len(y_test)):\n",
        "    if y_test.iloc[i] != predictions[i]:\n",
        "        count += 1\n",
        "print('Número total de testes', len(y_test))\n",
        "print('Número de erros', count)"
      ],
      "execution_count": null,
      "outputs": [
        {
          "output_type": "stream",
          "name": "stdout",
          "text": [
            "Número total de testes 1115\n",
            "Número de erros 39\n"
          ]
        }
      ]
    },
    {
      "metadata": {
        "_uuid": "17916e6ce16c1eee2f3fc765a87b247e8eb008aa",
        "id": "-6b001guYPlF"
      },
      "cell_type": "markdown",
      "source": [
        "**Checar quais foram os erros nas predições**"
      ]
    },
    {
      "metadata": {
        "trusted": true,
        "_uuid": "4e826b346995dd748e156f21122606458f6c8c7c",
        "id": "C_8jwbrQYPlG",
        "outputId": "688df7a1-2096-45d5-b8f0-fe6653c696cc",
        "colab": {
          "base_uri": "https://localhost:8080/",
          "height": 1000
        }
      },
      "cell_type": "code",
      "source": [
        "x_test[y_test != predictions]"
      ],
      "execution_count": null,
      "outputs": [
        {
          "output_type": "execute_result",
          "data": {
            "text/plain": [
              "419     Send a logo 2 ur lover - 2 names joined by a h...\n",
              "3139    sexy sexy cum and text me im wet and warm and ...\n",
              "3790    Twinks, bears, scallies, skins and jocks are c...\n",
              "2877    Hey Boys. Want hot XXX pics sent direct 2 ur p...\n",
              "2377    YES! The only place in town to meet exciting a...\n",
              "1499    SMS. ac JSco: Energy is high, but u may not kn...\n",
              "3417    LIFE has never been this much fun and great un...\n",
              "3358    Sorry I missed your call let's talk when you h...\n",
              "2412    I don't know u and u don't know me. Send CHAT ...\n",
              "3862    Oh my god! I've found your number again! I'm s...\n",
              "659     88800 and 89034 are premium phone services cal...\n",
              "3109    Good Luck! Draw takes place 28th Feb 06. Good ...\n",
              "5466    http//tms. widelive.com/index. wml?id=820554ad...\n",
              "1268    Can U get 2 phone NOW? I wanna chat 2 set up m...\n",
              "491     Congrats! 1 year special cinema pass for 2 is ...\n",
              "2246    Hi ya babe x u 4goten bout me?' scammers getti...\n",
              "2828    Send a logo 2 ur lover - 2 names joined by a h...\n",
              "3528    Xmas & New Years Eve tickets are now on sale f...\n",
              "4247    accordingly. I repeat, just text the word ok o...\n",
              "4142    In The Simpsons Movie released in July 2007 na...\n",
              "3979                                   ringtoneking 84484\n",
              "1637    0A$NETWORKS allow companies to bill for SMS, s...\n",
              "2802                    FreeMsg>FAV XMAS TONES!Reply REAL\n",
              "3270    You have 1 new voicemail. Please call 08719181...\n",
              "2294     You have 1 new message. Please call 08718738034.\n",
              "2619    <Forwarded from 21870000>Hi - this is your Mai...\n",
              "234     Text & meet someone sexy today. U can find a d...\n",
              "760     Romantic Paris. 2 nights, 2 flights from å£79 ...\n",
              "138     You'll not rcv any more msgs from the chat svc...\n",
              "689     <Forwarded from 448712404000>Please CALL 08712...\n",
              "879     U have a Secret Admirer who is looking 2 make ...\n",
              "1216    You have 1 new voicemail. Please call 08719181...\n",
              "1892    CALL 09090900040 & LISTEN TO EXTREME DIRTY LIV...\n",
              "2351    Download as many ringtones as u like no restri...\n",
              "1317    Win the newest ÛÏHarry Potter and the Order o...\n",
              "4458    Welcome to UK-mobile-date this msg is FREE giv...\n",
              "1879    U have a secret admirer who is looking 2 make ...\n",
              "4309    Someone U know has asked our dating service 2 ...\n",
              "1673    Monthly password for wap. mobsi.com is 391784....\n",
              "Name: message, dtype: object"
            ],
            "text/html": [
              "<div>\n",
              "<style scoped>\n",
              "    .dataframe tbody tr th:only-of-type {\n",
              "        vertical-align: middle;\n",
              "    }\n",
              "\n",
              "    .dataframe tbody tr th {\n",
              "        vertical-align: top;\n",
              "    }\n",
              "\n",
              "    .dataframe thead th {\n",
              "        text-align: right;\n",
              "    }\n",
              "</style>\n",
              "<table border=\"1\" class=\"dataframe\">\n",
              "  <thead>\n",
              "    <tr style=\"text-align: right;\">\n",
              "      <th></th>\n",
              "      <th>message</th>\n",
              "    </tr>\n",
              "  </thead>\n",
              "  <tbody>\n",
              "    <tr>\n",
              "      <th>419</th>\n",
              "      <td>Send a logo 2 ur lover - 2 names joined by a h...</td>\n",
              "    </tr>\n",
              "    <tr>\n",
              "      <th>3139</th>\n",
              "      <td>sexy sexy cum and text me im wet and warm and ...</td>\n",
              "    </tr>\n",
              "    <tr>\n",
              "      <th>3790</th>\n",
              "      <td>Twinks, bears, scallies, skins and jocks are c...</td>\n",
              "    </tr>\n",
              "    <tr>\n",
              "      <th>2877</th>\n",
              "      <td>Hey Boys. Want hot XXX pics sent direct 2 ur p...</td>\n",
              "    </tr>\n",
              "    <tr>\n",
              "      <th>2377</th>\n",
              "      <td>YES! The only place in town to meet exciting a...</td>\n",
              "    </tr>\n",
              "    <tr>\n",
              "      <th>1499</th>\n",
              "      <td>SMS. ac JSco: Energy is high, but u may not kn...</td>\n",
              "    </tr>\n",
              "    <tr>\n",
              "      <th>3417</th>\n",
              "      <td>LIFE has never been this much fun and great un...</td>\n",
              "    </tr>\n",
              "    <tr>\n",
              "      <th>3358</th>\n",
              "      <td>Sorry I missed your call let's talk when you h...</td>\n",
              "    </tr>\n",
              "    <tr>\n",
              "      <th>2412</th>\n",
              "      <td>I don't know u and u don't know me. Send CHAT ...</td>\n",
              "    </tr>\n",
              "    <tr>\n",
              "      <th>3862</th>\n",
              "      <td>Oh my god! I've found your number again! I'm s...</td>\n",
              "    </tr>\n",
              "    <tr>\n",
              "      <th>659</th>\n",
              "      <td>88800 and 89034 are premium phone services cal...</td>\n",
              "    </tr>\n",
              "    <tr>\n",
              "      <th>3109</th>\n",
              "      <td>Good Luck! Draw takes place 28th Feb 06. Good ...</td>\n",
              "    </tr>\n",
              "    <tr>\n",
              "      <th>5466</th>\n",
              "      <td>http//tms. widelive.com/index. wml?id=820554ad...</td>\n",
              "    </tr>\n",
              "    <tr>\n",
              "      <th>1268</th>\n",
              "      <td>Can U get 2 phone NOW? I wanna chat 2 set up m...</td>\n",
              "    </tr>\n",
              "    <tr>\n",
              "      <th>491</th>\n",
              "      <td>Congrats! 1 year special cinema pass for 2 is ...</td>\n",
              "    </tr>\n",
              "    <tr>\n",
              "      <th>2246</th>\n",
              "      <td>Hi ya babe x u 4goten bout me?' scammers getti...</td>\n",
              "    </tr>\n",
              "    <tr>\n",
              "      <th>2828</th>\n",
              "      <td>Send a logo 2 ur lover - 2 names joined by a h...</td>\n",
              "    </tr>\n",
              "    <tr>\n",
              "      <th>3528</th>\n",
              "      <td>Xmas &amp; New Years Eve tickets are now on sale f...</td>\n",
              "    </tr>\n",
              "    <tr>\n",
              "      <th>4247</th>\n",
              "      <td>accordingly. I repeat, just text the word ok o...</td>\n",
              "    </tr>\n",
              "    <tr>\n",
              "      <th>4142</th>\n",
              "      <td>In The Simpsons Movie released in July 2007 na...</td>\n",
              "    </tr>\n",
              "    <tr>\n",
              "      <th>3979</th>\n",
              "      <td>ringtoneking 84484</td>\n",
              "    </tr>\n",
              "    <tr>\n",
              "      <th>1637</th>\n",
              "      <td>0A$NETWORKS allow companies to bill for SMS, s...</td>\n",
              "    </tr>\n",
              "    <tr>\n",
              "      <th>2802</th>\n",
              "      <td>FreeMsg&gt;FAV XMAS TONES!Reply REAL</td>\n",
              "    </tr>\n",
              "    <tr>\n",
              "      <th>3270</th>\n",
              "      <td>You have 1 new voicemail. Please call 08719181...</td>\n",
              "    </tr>\n",
              "    <tr>\n",
              "      <th>2294</th>\n",
              "      <td>You have 1 new message. Please call 08718738034.</td>\n",
              "    </tr>\n",
              "    <tr>\n",
              "      <th>2619</th>\n",
              "      <td>&lt;Forwarded from 21870000&gt;Hi - this is your Mai...</td>\n",
              "    </tr>\n",
              "    <tr>\n",
              "      <th>234</th>\n",
              "      <td>Text &amp; meet someone sexy today. U can find a d...</td>\n",
              "    </tr>\n",
              "    <tr>\n",
              "      <th>760</th>\n",
              "      <td>Romantic Paris. 2 nights, 2 flights from å£79 ...</td>\n",
              "    </tr>\n",
              "    <tr>\n",
              "      <th>138</th>\n",
              "      <td>You'll not rcv any more msgs from the chat svc...</td>\n",
              "    </tr>\n",
              "    <tr>\n",
              "      <th>689</th>\n",
              "      <td>&lt;Forwarded from 448712404000&gt;Please CALL 08712...</td>\n",
              "    </tr>\n",
              "    <tr>\n",
              "      <th>879</th>\n",
              "      <td>U have a Secret Admirer who is looking 2 make ...</td>\n",
              "    </tr>\n",
              "    <tr>\n",
              "      <th>1216</th>\n",
              "      <td>You have 1 new voicemail. Please call 08719181...</td>\n",
              "    </tr>\n",
              "    <tr>\n",
              "      <th>1892</th>\n",
              "      <td>CALL 09090900040 &amp; LISTEN TO EXTREME DIRTY LIV...</td>\n",
              "    </tr>\n",
              "    <tr>\n",
              "      <th>2351</th>\n",
              "      <td>Download as many ringtones as u like no restri...</td>\n",
              "    </tr>\n",
              "    <tr>\n",
              "      <th>1317</th>\n",
              "      <td>Win the newest ÛÏHarry Potter and the Order o...</td>\n",
              "    </tr>\n",
              "    <tr>\n",
              "      <th>4458</th>\n",
              "      <td>Welcome to UK-mobile-date this msg is FREE giv...</td>\n",
              "    </tr>\n",
              "    <tr>\n",
              "      <th>1879</th>\n",
              "      <td>U have a secret admirer who is looking 2 make ...</td>\n",
              "    </tr>\n",
              "    <tr>\n",
              "      <th>4309</th>\n",
              "      <td>Someone U know has asked our dating service 2 ...</td>\n",
              "    </tr>\n",
              "    <tr>\n",
              "      <th>1673</th>\n",
              "      <td>Monthly password for wap. mobsi.com is 391784....</td>\n",
              "    </tr>\n",
              "  </tbody>\n",
              "</table>\n",
              "</div><br><label><b>dtype:</b> object</label>"
            ]
          },
          "metadata": {},
          "execution_count": 29
        }
      ]
    },
    {
      "metadata": {
        "_uuid": "9493853ec664ba66d1dd3f4b65d3f222f861276c",
        "id": "3xuxjP-zYPlG"
      },
      "cell_type": "markdown",
      "source": [
        "**Utilizar a função report para melhores detalhes**"
      ]
    },
    {
      "metadata": {
        "trusted": true,
        "_uuid": "cf9b861cfd6e62d284c87d30e9b840c2271b60b2",
        "id": "Yn2iYUMjYPlG",
        "outputId": "8f93b3e6-94da-415a-d886-319ca61bd780",
        "colab": {
          "base_uri": "https://localhost:8080/"
        }
      },
      "cell_type": "code",
      "source": [
        "from sklearn.metrics import classification_report\n",
        "print(classification_report(predictions, y_test))"
      ],
      "execution_count": null,
      "outputs": [
        {
          "output_type": "stream",
          "name": "stdout",
          "text": [
            "              precision    recall  f1-score   support\n",
            "\n",
            "         ham       1.00      0.96      0.98      1014\n",
            "        spam       0.72      1.00      0.84       101\n",
            "\n",
            "    accuracy                           0.97      1115\n",
            "   macro avg       0.86      0.98      0.91      1115\n",
            "weighted avg       0.97      0.97      0.97      1115\n",
            "\n"
          ]
        }
      ]
    },
    {
      "metadata": {
        "_uuid": "6d5990efe944223128dc5baaaadf4382a5648956",
        "id": "etLSNzBtYPlG"
      },
      "cell_type": "markdown",
      "source": [
        "Olhando para a coluna de precisão (para ham, é 1,00), podemos dizer que todo o número de previsões erradas veio de spam previsto como ham. Está tudo bem e o custo de prever spam como ham é significativamente menor comparado com o de prever ham como spam."
      ]
    },
    {
      "metadata": {
        "_uuid": "0eb6dde3ac2244ebfe7f1ec9bf015719018d899b",
        "id": "gs_UvrSJYPlH"
      },
      "cell_type": "markdown",
      "source": [
        "**Função para dizer se uma mensagem é ham ou spam**"
      ]
    },
    {
      "metadata": {
        "trusted": true,
        "_uuid": "f471837c49484f5fbdcd71b21b649c1dd5cf0a02",
        "id": "o6xevjPXYPlH",
        "outputId": "1bd03b03-334f-4b54-b927-17c36c4d082a",
        "colab": {
          "base_uri": "https://localhost:8080/",
          "height": 35
        }
      },
      "cell_type": "code",
      "source": [
        "def detect_spam(s):\n",
        "    return spam_filter.predict([s])[0]\n",
        "detect_spam('Your cash-balance is currently 500 pounds - to maximize your cash-in now, send COLLECT to 83600.')"
      ],
      "execution_count": null,
      "outputs": [
        {
          "output_type": "execute_result",
          "data": {
            "text/plain": [
              "'spam'"
            ],
            "application/vnd.google.colaboratory.intrinsic+json": {
              "type": "string"
            }
          },
          "metadata": {},
          "execution_count": 31
        }
      ]
    },
    {
      "metadata": {
        "trusted": true,
        "_uuid": "3a5017233497c29226537b67d8bec27c0c5a7955",
        "id": "nIZvUTQPYPlH"
      },
      "cell_type": "code",
      "source": [],
      "execution_count": null,
      "outputs": []
    },
    {
      "metadata": {
        "trusted": true,
        "_uuid": "a97ccd286fc063eac8dc521f97ae22f6e2851819",
        "id": "sCDmdtODYPlH"
      },
      "cell_type": "code",
      "source": [],
      "execution_count": null,
      "outputs": []
    }
  ],
  "metadata": {
    "kernelspec": {
      "display_name": "Python 3",
      "language": "python",
      "name": "python3"
    },
    "language_info": {
      "codemirror_mode": {
        "name": "ipython",
        "version": 3
      },
      "file_extension": ".py",
      "mimetype": "text/x-python",
      "name": "python",
      "nbconvert_exporter": "python",
      "pygments_lexer": "ipython3",
      "version": "3.6.5"
    },
    "colab": {
      "provenance": [],
      "include_colab_link": true
    }
  },
  "nbformat": 4,
  "nbformat_minor": 0
}