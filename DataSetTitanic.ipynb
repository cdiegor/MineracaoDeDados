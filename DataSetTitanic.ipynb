{
  "nbformat": 4,
  "nbformat_minor": 0,
  "metadata": {
    "colab": {
      "provenance": [],
      "include_colab_link": true
    },
    "kernelspec": {
      "name": "python3",
      "display_name": "Python 3"
    },
    "language_info": {
      "name": "python"
    }
  },
  "cells": [
    {
      "cell_type": "markdown",
      "metadata": {
        "id": "view-in-github",
        "colab_type": "text"
      },
      "source": [
        "<a href=\"https://colab.research.google.com/github/cdiegor/MineracaoDeDados/blob/main/DataSetTitanic.ipynb\" target=\"_parent\"><img src=\"https://colab.research.google.com/assets/colab-badge.svg\" alt=\"Open In Colab\"/></a>"
      ]
    },
    {
      "cell_type": "markdown",
      "source": [
        "# Importando as bibliotecas necessárias"
      ],
      "metadata": {
        "id": "wue8NEcIIZDI"
      }
    },
    {
      "cell_type": "code",
      "execution_count": null,
      "metadata": {
        "id": "PCEixS9pcW7K"
      },
      "outputs": [],
      "source": [
        "import pandas as pd\n",
        "import matplotlib.pyplot as plt\n",
        "import numpy as np"
      ]
    },
    {
      "cell_type": "markdown",
      "source": [
        "# Pré-processamento"
      ],
      "metadata": {
        "id": "EpIVGzNi3bPz"
      }
    },
    {
      "cell_type": "code",
      "source": [
        "data = pd.read_csv('titanic.csv')"
      ],
      "metadata": {
        "id": "ZE9KZqSULJfP"
      },
      "execution_count": null,
      "outputs": []
    },
    {
      "cell_type": "code",
      "source": [
        "data.info()"
      ],
      "metadata": {
        "id": "ItEa9aE_DqjG"
      },
      "execution_count": null,
      "outputs": []
    },
    {
      "cell_type": "code",
      "source": [
        "from sklearn.preprocessing import LabelEncoder\n",
        "\n",
        "data = data.dropna() # Exclui as linhas possuem valores NaN\n",
        "data['Age'] = data['Age'].astype(int) # Transformar o tipo da coluna Age para inteiro\n",
        "le = LabelEncoder()\n",
        "data['Sex'] = le.fit_transform(data['Sex'])\n",
        "data['Embarked'] = le.fit_transform(data['Embarked'])\n",
        "data"
      ],
      "metadata": {
        "id": "-TjlPiuqi66k"
      },
      "execution_count": null,
      "outputs": []
    },
    {
      "cell_type": "code",
      "source": [
        "dum = pd.get_dummies(data['Embarked']) # Dividindo a coluna 'Embarked' em 3 novas colunas\n",
        "data = pd.concat([data,dum], axis=1) # Colocando as novas colunas no DataFrame\n",
        "data = data.drop('Embarked', axis='columns') # Dropando a antiga coluna 'Embarked'\n",
        "\n",
        "data = data.rename(columns={2: 'Southampton', 0:'Cherbourg', 1:'Queenstown'}) # Renomeando as colunas"
      ],
      "metadata": {
        "id": "gBYMp0U_Dhcy"
      },
      "execution_count": null,
      "outputs": []
    },
    {
      "cell_type": "code",
      "source": [
        "data"
      ],
      "metadata": {
        "id": "3ivZfASnmtY0"
      },
      "execution_count": null,
      "outputs": []
    },
    {
      "cell_type": "code",
      "source": [
        "dum2 = pd.get_dummies(data['Pclass']) # Dividindo a coluna 'Pclass' em 3 novas colunas\n",
        "data = pd.concat([data,dum2], axis=1) # Colocando novas colunas no DataFrame\n",
        "data = data.drop('Pclass', axis='columns') # Dropando a antiga coluna 'Pclass'\n",
        "data = data.rename(columns={3:'Class3a', 2:'Class2a', 1:'Class1a'}) # Renomeando as colunas"
      ],
      "metadata": {
        "id": "jqY5pJ0GD5Hd"
      },
      "execution_count": null,
      "outputs": []
    },
    {
      "cell_type": "code",
      "source": [
        "data.info() # Domínio dos atributos"
      ],
      "metadata": {
        "id": "99MHPuI8HxlS"
      },
      "execution_count": null,
      "outputs": []
    },
    {
      "cell_type": "code",
      "source": [
        "data.describe()"
      ],
      "metadata": {
        "id": "KaC0mmSxZWyZ"
      },
      "execution_count": null,
      "outputs": []
    },
    {
      "cell_type": "markdown",
      "source": [
        "# Histograma dos atributos"
      ],
      "metadata": {
        "id": "bch-PXyBZiwv"
      }
    },
    {
      "cell_type": "markdown",
      "source": [
        "# Dividindo entre conjunto de treinando e teste"
      ],
      "metadata": {
        "id": "505FUVVvozq_"
      }
    },
    {
      "cell_type": "code",
      "source": [
        "y = data.iloc[:,1].values\n",
        "x = data.iloc[:, [3,4,5,6,8,10,11,12,13,14,15]].values\n",
        "from sklearn.model_selection import train_test_split\n",
        "X_train, X_test, y_train, y_test = train_test_split(x, y, test_size = 0.27, random_state = 0)\n"
      ],
      "metadata": {
        "id": "wL2pw7pi26Ly"
      },
      "execution_count": null,
      "outputs": []
    },
    {
      "cell_type": "code",
      "source": [
        "from sklearn.preprocessing import StandardScaler\n",
        "sc = StandardScaler()\n",
        "X_train = sc.fit_transform(X_train)\n",
        "X_test = sc.transform(X_test)"
      ],
      "metadata": {
        "id": "f_PSjQ8Z5FEz"
      },
      "execution_count": null,
      "outputs": []
    },
    {
      "cell_type": "markdown",
      "source": [
        "# Criando um classificador usando Árvore de Decisão"
      ],
      "metadata": {
        "id": "qrQ6PqP1bMdQ"
      }
    },
    {
      "cell_type": "code",
      "source": [
        "from sklearn.tree import DecisionTreeClassifier\n",
        "classifier_Ad = DecisionTreeClassifier(criterion = 'entropy', random_state = 0)\n",
        "classifier_Ad.fit(X_train, y_train)"
      ],
      "metadata": {
        "id": "vc0VJ7dsbTiS"
      },
      "execution_count": null,
      "outputs": []
    },
    {
      "cell_type": "code",
      "source": [
        "predictions = classifier_Ad.predict(X_test)"
      ],
      "metadata": {
        "id": "fRwD2k5Bb2wz"
      },
      "execution_count": null,
      "outputs": []
    },
    {
      "cell_type": "markdown",
      "source": [
        "# Matriz de Confusão da Árvore de Decisão"
      ],
      "metadata": {
        "id": "uHPjcUf9cKso"
      }
    },
    {
      "cell_type": "code",
      "source": [
        "from sklearn.metrics import classification_report,confusion_matrix, accuracy_score, f1_score, recall_score, precision_score\n",
        "\n",
        "print(\"Accuracy: \", accuracy_score(y_test,predictions))\n",
        "print(classification_report(y_test,predictions))\n",
        "print(confusion_matrix(y_test,predictions))"
      ],
      "metadata": {
        "id": "UApFKgojb52P"
      },
      "execution_count": null,
      "outputs": []
    },
    {
      "cell_type": "markdown",
      "source": [
        "# Criando um classificador usando Regressão Logística\n"
      ],
      "metadata": {
        "id": "7rXdKPOX5UkD"
      }
    },
    {
      "cell_type": "code",
      "source": [
        "from sklearn.linear_model import LogisticRegression\n",
        "classifier = LogisticRegression(random_state = 0)\n",
        "classifier.fit(X_train, y_train)"
      ],
      "metadata": {
        "id": "evZLWs8h5Wnf"
      },
      "execution_count": null,
      "outputs": []
    },
    {
      "cell_type": "code",
      "source": [
        "y_pred = classifier.predict(X_test)"
      ],
      "metadata": {
        "id": "slq2smKh5mQM"
      },
      "execution_count": null,
      "outputs": []
    },
    {
      "cell_type": "markdown",
      "source": [
        "# Matriz de Confusão da Regressão Logística"
      ],
      "metadata": {
        "id": "j_U2Oxn9542a"
      }
    },
    {
      "cell_type": "code",
      "source": [
        "print(\"Accuracy: \", accuracy_score(y_test,y_pred))\n",
        "print(classification_report(y_test,y_pred))\n",
        "print(confusion_matrix(y_test,y_pred))"
      ],
      "metadata": {
        "id": "lhvrVJF8sQJn"
      },
      "execution_count": null,
      "outputs": []
    }
  ]
}