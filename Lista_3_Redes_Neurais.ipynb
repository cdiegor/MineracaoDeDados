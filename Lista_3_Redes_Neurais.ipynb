{
  "nbformat": 4,
  "nbformat_minor": 0,
  "metadata": {
    "colab": {
      "provenance": [],
      "toc_visible": true,
      "include_colab_link": true
    },
    "kernelspec": {
      "name": "python3",
      "display_name": "Python 3"
    },
    "language_info": {
      "name": "python"
    }
  },
  "cells": [
    {
      "cell_type": "markdown",
      "metadata": {
        "id": "view-in-github",
        "colab_type": "text"
      },
      "source": [
        "<a href=\"https://colab.research.google.com/github/cdiegor/MineracaoDeDados/blob/main/Lista_3_Redes_Neurais.ipynb\" target=\"_parent\"><img src=\"https://colab.research.google.com/assets/colab-badge.svg\" alt=\"Open In Colab\"/></a>"
      ]
    },
    {
      "cell_type": "markdown",
      "source": [
        "# Dados para exercícios"
      ],
      "metadata": {
        "id": "qmiONQJKSFl6"
      }
    },
    {
      "cell_type": "markdown",
      "source": [
        "## Qualidade do vinho tinto"
      ],
      "metadata": {
        "id": "0fb3ll8iSJO4"
      }
    },
    {
      "cell_type": "markdown",
      "source": [
        "### Contexto"
      ],
      "metadata": {
        "id": "DDfJi0oASkDp"
      }
    },
    {
      "cell_type": "markdown",
      "source": [
        "A graduação de um vinho é uma tarefa essencialmente feita por seres humanos a partir da apreciação sensorial: cor, odor, sabor. É possível para uma inteligência artificial reproduzir esta tarefa a partir de características físico-químicas do vinho?"
      ],
      "metadata": {
        "id": "cZKC0-KcSlR4"
      }
    },
    {
      "cell_type": "markdown",
      "source": [
        "### Conteúdo"
      ],
      "metadata": {
        "id": "lAtOBCy4Sm0x"
      }
    },
    {
      "cell_type": "markdown",
      "source": [
        "\n",
        "Os dois conjuntos de dados estão relacionados a variantes tintas e brancas do vinho verde português. Para mais detalhes, consulte a referência [Cortez et al., 2009]. Devido a questões de privacidade e logística, apenas variáveis ​​físico-químicas (entradas) e sensoriais (saída) estão disponíveis (por exemplo, não há dados sobre tipos de uva, marca de vinho, preço de venda do vinho, etc.).\n",
        "\n",
        "Esses conjuntos de dados podem ser vistos como tarefas de classificação ou regressão. As classes são ordenadas e não balanceadas (por exemplo, há muito mais vinhos normais do que excelentes ou ruins)."
      ],
      "metadata": {
        "id": "S-soxdnOShtR"
      }
    },
    {
      "cell_type": "markdown",
      "source": [
        "### Link para acesso"
      ],
      "metadata": {
        "id": "-UfgXcgTS1kJ"
      }
    },
    {
      "cell_type": "markdown",
      "source": [
        "[Qualidade do vinho tinto na Kaggle](https://www.kaggle.com/datasets/uciml/red-wine-quality-cortez-et-al-2009)\n",
        "\n",
        "[Link direto para os dados](https://github.com/cdiegor/MineracaoDeDados/raw/main/winequality-red.csv)\n"
      ],
      "metadata": {
        "id": "edeAkSu4S3t5"
      }
    },
    {
      "cell_type": "markdown",
      "source": [
        "## Vai para a faculdade"
      ],
      "metadata": {
        "id": "PkExg-4SX0_O"
      }
    },
    {
      "cell_type": "markdown",
      "source": [
        "### Contexto"
      ],
      "metadata": {
        "id": "pFKcmEz6YXmv"
      }
    },
    {
      "cell_type": "markdown",
      "source": [
        "O acesso à universidade é limitado e supõe-se altamente dependente de questões sócio-ecônomicas dos candidatos. Podemos classificar corretamente os perfis que vão para a faculdade?"
      ],
      "metadata": {
        "id": "wXdRuimLZlTC"
      }
    },
    {
      "cell_type": "markdown",
      "source": [
        "### Conteúdo\n",
        "\n"
      ],
      "metadata": {
        "id": "GMDZw229YZFu"
      }
    },
    {
      "cell_type": "markdown",
      "source": [
        "Estes são dados sintéticos criados para um projeto de faculdade. Esses dados visam prever se os alunos continuarão a ir para a faculdade ou não. Com a explicabilidade do aprendizado de máquina, os orientadores escolares podem ajudar os alunos que não irão para a faculdade, encontrando o fator e ajudando-os. Vamos construir algo realmente útil. Aqui está meu caderno de recomendações."
      ],
      "metadata": {
        "id": "h898ZC2RdT18"
      }
    },
    {
      "cell_type": "markdown",
      "source": [
        "### Link para acesso"
      ],
      "metadata": {
        "id": "QaDsGJ_aYbJw"
      }
    },
    {
      "cell_type": "markdown",
      "source": [
        "\n",
        "\n",
        "[Vai para a faculdade na Kaggle](https://www.kaggle.com/datasets/saddamazyazy/go-to-college-dataset)\n",
        "\n",
        "[Link direto para os dados](https://github.com/cdiegor/MineracaoDeDados/raw/main/gotocollege.csv)"
      ],
      "metadata": {
        "id": "A2KasjplZ6NE"
      }
    }
  ]
}