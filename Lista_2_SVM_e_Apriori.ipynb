{
  "nbformat": 4,
  "nbformat_minor": 0,
  "metadata": {
    "colab": {
      "provenance": [],
      "toc_visible": true,
      "include_colab_link": true
    },
    "kernelspec": {
      "name": "python3",
      "display_name": "Python 3"
    },
    "language_info": {
      "name": "python"
    }
  },
  "cells": [
    {
      "cell_type": "markdown",
      "metadata": {
        "id": "view-in-github",
        "colab_type": "text"
      },
      "source": [
        "<a href=\"https://colab.research.google.com/github/cdiegor/MineracaoDeDados/blob/main/Lista_2_SVM_e_Apriori.ipynb\" target=\"_parent\"><img src=\"https://colab.research.google.com/assets/colab-badge.svg\" alt=\"Open In Colab\"/></a>"
      ]
    },
    {
      "cell_type": "markdown",
      "source": [
        "# Dados para exercícios"
      ],
      "metadata": {
        "id": "qmiONQJKSFl6"
      }
    },
    {
      "cell_type": "markdown",
      "source": [
        "## Exercício 1\n",
        "\n",
        "### Aplique o classificador SVM sobre o problema de detecção de fraude em cartão de crédito. Explore na criação do modelo todas as possibilidades de *kernel* assim como alguns valores para a penalização *C* (sugestão: utilize uma escala exponencial 0.01, 0.1, 1, 10, 100, ...)"
      ],
      "metadata": {
        "id": "T-KeBSzvQmyz"
      }
    },
    {
      "cell_type": "markdown",
      "source": [
        "## Detecção de fraude em cartão de crédito"
      ],
      "metadata": {
        "id": "0fb3ll8iSJO4"
      }
    },
    {
      "cell_type": "markdown",
      "source": [
        "### Contexto"
      ],
      "metadata": {
        "id": "DDfJi0oASkDp"
      }
    },
    {
      "cell_type": "markdown",
      "source": [
        "É importante que as empresas de cartão de crédito sejam capazes de reconhecer transações fraudulentas com cartão de crédito para que os clientes não sejam cobrados por itens que não compraram."
      ],
      "metadata": {
        "id": "cZKC0-KcSlR4"
      }
    },
    {
      "cell_type": "markdown",
      "source": [
        "### Conteúdo"
      ],
      "metadata": {
        "id": "lAtOBCy4Sm0x"
      }
    },
    {
      "cell_type": "markdown",
      "source": [
        "\n",
        "O conjunto de dados contém transações feitas por cartões de crédito em setembro de 2013 por titulares de cartões europeus.\n",
        "\n",
        "Este conjunto de dados apresenta transações ocorridas em dois dias, onde temos 492 fraudes em 284.807 transações. O conjunto de dados é altamente desbalanceado, a classe positiva (fraudes) responde por 0,172% de todas as transações.\n",
        "\n",
        "Ele contém apenas variáveis de entrada numéricas que são o resultado de uma transformação PCA. Infelizmente, devido a questões de confidencialidade, não podemos fornecer os recursos originais e mais informações básicas sobre os dados. As características V1, V2, … V28 são os principais componentes obtidos com PCA, as únicas características que não foram transformadas com PCA são 'Time' e 'Amount'. O recurso 'Tempo' contém os segundos decorridos entre cada transação e a primeira transação no conjunto de dados. O recurso 'Valor' é o valor da transação, esse recurso pode ser usado para aprendizado sensível ao custo dependente de exemplo. A característica 'Classe' é a variável de resposta e assume valor 1 em caso de fraude e 0 caso contrário.\n",
        "\n",
        "Dada a taxa de desequilíbrio de classe, recomendamos medir a precisão usando a Área sob a Curva de Rechamada de Precisão (AUPRC). A precisão da matriz de confusão não é significativa para a classificação desbalanceada."
      ],
      "metadata": {
        "id": "S-soxdnOShtR"
      }
    },
    {
      "cell_type": "markdown",
      "source": [
        "### Link para acesso"
      ],
      "metadata": {
        "id": "-UfgXcgTS1kJ"
      }
    },
    {
      "cell_type": "markdown",
      "source": [
        "[Fraude em cartão de crédito na Kaggle](https://www.kaggle.com/datasets/mlg-ulb/creditcardfraud)"
      ],
      "metadata": {
        "id": "edeAkSu4S3t5"
      }
    },
    {
      "cell_type": "markdown",
      "source": [
        "## Exercício 2\n",
        "\n",
        "### Considere o conjunto de itens $\\{a,b,c,d,e,f,g,h\\}$ e as seguintes transações como entrada do algoritmo \"*a priori*\":\n",
        "\n",
        "1.   ag\n",
        "2.   bcg\n",
        "3.   eg\n",
        "4.   dg\n",
        "5.   dfg\n",
        "6.   dg\n",
        "7.   ag\n",
        "8.   ag\n",
        "9.   ae\n",
        "10.  ag\n",
        "11.  afg\n",
        "12.  af\n",
        "13.  ade\n",
        "14.  dfg\n",
        "15.  bdfg\n",
        "16.  afh\n",
        "17.  ade\n",
        "18.  bdfg\n",
        "19.  ch\n",
        "20.  cdf\n",
        "\n",
        "Estamos interessados em regras com suporte mínimo igual a $0.1$ (pelo menos 2 transações de suporte). Indique quais são as transações enumeradas pelo algoritmo e quais são retidas e qual seu valor de confiança.\n",
        "\n"
      ],
      "metadata": {
        "id": "kp3SfjFdRRs4"
      }
    }
  ]
}