{
  "nbformat": 4,
  "nbformat_minor": 0,
  "metadata": {
    "colab": {
      "provenance": [],
      "toc_visible": true,
      "include_colab_link": true
    },
    "kernelspec": {
      "name": "python3",
      "display_name": "Python 3"
    },
    "language_info": {
      "name": "python"
    }
  },
  "cells": [
    {
      "cell_type": "markdown",
      "metadata": {
        "id": "view-in-github",
        "colab_type": "text"
      },
      "source": [
        "<a href=\"https://colab.research.google.com/github/cdiegor/MineracaoDeDados/blob/main/Lista_4_Agrupamento.ipynb\" target=\"_parent\"><img src=\"https://colab.research.google.com/assets/colab-badge.svg\" alt=\"Open In Colab\"/></a>"
      ]
    },
    {
      "cell_type": "markdown",
      "source": [
        "# Dados para exercícios"
      ],
      "metadata": {
        "id": "qmiONQJKSFl6"
      }
    },
    {
      "cell_type": "markdown",
      "source": [
        "## Agrupamento bidimensional"
      ],
      "metadata": {
        "id": "0fb3ll8iSJO4"
      }
    },
    {
      "cell_type": "markdown",
      "source": [
        "### Contexto"
      ],
      "metadata": {
        "id": "DDfJi0oASkDp"
      }
    },
    {
      "cell_type": "markdown",
      "source": [
        "No repositório a segir temos uma série de desafios de agrupamento em duas dimensões. Elabore um código para executar um agrupamento, encontrar o número ideal de grupos e visualizar os efeitos do agrupamento proposto com o matplotlib."
      ],
      "metadata": {
        "id": "cZKC0-KcSlR4"
      }
    },
    {
      "cell_type": "markdown",
      "source": [
        "### Conteúdo"
      ],
      "metadata": {
        "id": "lAtOBCy4Sm0x"
      }
    },
    {
      "cell_type": "markdown",
      "source": [
        "\n",
        "Trata-se de conjuntos de dados artificiais para verificar o efeito de diferentes métodos e quantidades de grupos. Utilize o método de sua preferência."
      ],
      "metadata": {
        "id": "S-soxdnOShtR"
      }
    },
    {
      "cell_type": "markdown",
      "source": [
        "### Link para acesso"
      ],
      "metadata": {
        "id": "-UfgXcgTS1kJ"
      }
    },
    {
      "cell_type": "markdown",
      "source": [
        "[Exercícios de agrupamento no Kaggle](https://www.kaggle.com/datasets/joonasyoon/clustering-exercises)\n",
        "\n",
        "[Link direto para os dados](https://github.com/cdiegor/MineracaoDeDados/raw/main/exercicios_agrupamento.zip)\n"
      ],
      "metadata": {
        "id": "edeAkSu4S3t5"
      }
    },
    {
      "cell_type": "markdown",
      "source": [
        "## Agrupamento de países por dados sócio-econômicos"
      ],
      "metadata": {
        "id": "PkExg-4SX0_O"
      }
    },
    {
      "cell_type": "markdown",
      "source": [
        "### Contexto"
      ],
      "metadata": {
        "id": "pFKcmEz6YXmv"
      }
    },
    {
      "cell_type": "markdown",
      "source": [
        "Muitos organismos internacionais precisam categorizar os países para orientar suas políticas de ajuda e captação de recursos. Uma possível forma é utilizar dados públicos sócio-econômicos para encontrar um agrupamento condizente com esta necessidade."
      ],
      "metadata": {
        "id": "wXdRuimLZlTC"
      }
    },
    {
      "cell_type": "markdown",
      "source": [
        "### Conteúdo\n",
        "\n"
      ],
      "metadata": {
        "id": "GMDZw229YZFu"
      }
    },
    {
      "cell_type": "markdown",
      "source": [
        "### Objetivo:\n",
        "\n",
        "Categorizar os países usando fatores socioeconômicos e de saúde que determinam o desenvolvimento geral do país.\n",
        "\n",
        "### Sobre a organização:\n",
        "\n",
        "A HELP International é uma ONG humanitária internacional que está comprometida em combater a pobreza e fornecer às pessoas de países subdesenvolvidos ​​comodidades básicas e alívio durante desastres e calamidades naturais.\n",
        "\n",
        "### Descrição do problema:\n",
        "\n",
        "A HELP International conseguiu arrecadar cerca de US$ 10 milhões. Agora, o CEO da ONG precisa decidir como usar esse dinheiro de forma estratégica e eficaz. Então, o CEO precisa tomar a decisão de escolher os países que mais precisam de ajuda. Portanto, seu trabalho como cientista de dados é categorizar os países usando alguns fatores socioeconômicos e de saúde que determinam o desenvolvimento geral do país. Então, você precisa sugerir os países nos quais o CEO precisa se concentrar mais."
      ],
      "metadata": {
        "id": "h898ZC2RdT18"
      }
    },
    {
      "cell_type": "markdown",
      "source": [
        "### Link para acesso"
      ],
      "metadata": {
        "id": "QaDsGJ_aYbJw"
      }
    },
    {
      "cell_type": "markdown",
      "source": [
        "\n",
        "\n",
        "[Aprendizado não supervisionado em dados de países na Kaggle](https://www.kaggle.com/datasets/rohan0301/unsupervised-learning-on-country-data)\n",
        "\n",
        "[Link direto para os dados](https://github.com/cdiegor/MineracaoDeDados/raw/main/agrupamentodepaises.zip)"
      ],
      "metadata": {
        "id": "A2KasjplZ6NE"
      }
    }
  ]
}